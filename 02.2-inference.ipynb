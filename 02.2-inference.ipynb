{
 "cells": [
  {
   "cell_type": "code",
   "execution_count": 45,
   "metadata": {},
   "outputs": [],
   "source": [
    "## Inferencing a Model\n",
    "## -------------------\n",
    "\n",
    "# Inferencing a Model using a exported `.pkl` model."
   ]
  },
  {
   "cell_type": "code",
   "execution_count": 46,
   "metadata": {},
   "outputs": [],
   "source": [
    "from utils import *\n",
    "from fastai2.vision.widgets import *"
   ]
  },
  {
   "cell_type": "code",
   "execution_count": 47,
   "metadata": {},
   "outputs": [],
   "source": [
    "learn = load_learner(\"synths.pkl\")"
   ]
  },
  {
   "cell_type": "code",
   "execution_count": 48,
   "metadata": {},
   "outputs": [],
   "source": [
    "# uploader = widgets.FileUpload()\n",
    "# uploader"
   ]
  },
  {
   "cell_type": "code",
   "execution_count": 49,
   "metadata": {},
   "outputs": [],
   "source": [
    "# u_image = PILImage.create(uploader.data[-1])\n",
    "# u_image.to_thumb(224)"
   ]
  },
  {
   "cell_type": "code",
   "execution_count": 50,
   "metadata": {},
   "outputs": [],
   "source": [
    "# learn.predict(u_image)"
   ]
  },
  {
   "cell_type": "code",
   "execution_count": 51,
   "metadata": {},
   "outputs": [],
   "source": [
    "## CREATING THE GUI\n",
    "## ----------------\n",
    "\n",
    "# Here we are using iPython widgets to create the UI for our notebook"
   ]
  },
  {
   "cell_type": "code",
   "execution_count": 52,
   "metadata": {},
   "outputs": [],
   "source": [
    "out_image = widgets.Output()\n",
    "lbl_result = widgets.Label()"
   ]
  },
  {
   "cell_type": "code",
   "execution_count": 53,
   "metadata": {},
   "outputs": [],
   "source": [
    "up_image = widgets.FileUpload()\n",
    "\n",
    "def on_upload(change):\n",
    "    img_uploaded = PILImage.create(up_image.data[-1])\n",
    "    out_image.clear_output()\n",
    "    out_image.value = img_uploaded;\n",
    "    with out_image:\n",
    "        display(img_uploaded.to_thumb(224))\n",
    "        \n",
    "    btn_predict.disabled = False\n",
    "    lbl_result.value = ''\n",
    "    \n",
    "up_image.observe(on_upload, names='data')"
   ]
  },
  {
   "cell_type": "code",
   "execution_count": 54,
   "metadata": {},
   "outputs": [],
   "source": [
    "btn_predict = widgets.Button(description=\"Predict\")\n",
    "\n",
    "def onclick_btn_predit(change): \n",
    "    img_uploaded = out_image.value\n",
    "    pred, pred_id, pred_probs = learn.predict(img_uploaded)\n",
    "    lbl_result.value = f'Prediction: \"{pred}\" with probability: \"{pred_probs[pred_id]:0.4f}\"'\n",
    "    btn_predict.disabled = True\n",
    "    \n",
    "btn_predict.on_click(onclick_btn_predit)\n",
    "btn_predict.disabled = True"
   ]
  },
  {
   "cell_type": "code",
   "execution_count": 55,
   "metadata": {},
   "outputs": [
    {
     "data": {
      "application/vnd.jupyter.widget-view+json": {
       "model_id": "222acd0cbca64f44b97b589efbf0b8d0",
       "version_major": 2,
       "version_minor": 0
      },
      "text/plain": [
       "VBox(children=(HTML(value='<h2>Predict the Synth</h2>'), FileUpload(value={}, description='Upload'), Output(),…"
      ]
     },
     "metadata": {},
     "output_type": "display_data"
    }
   ],
   "source": [
    "VBox([\n",
    "    widgets.HTML(\"<h2>Predict the Synth</h2>\"),\n",
    "    up_image,\n",
    "    out_image,\n",
    "    btn_predict,\n",
    "    lbl_result\n",
    "])"
   ]
  },
  {
   "cell_type": "code",
   "execution_count": null,
   "metadata": {},
   "outputs": [],
   "source": []
  }
 ],
 "metadata": {
  "kernelspec": {
   "display_name": "Python 3",
   "language": "python",
   "name": "python3"
  },
  "language_info": {
   "codemirror_mode": {
    "name": "ipython",
    "version": 3
   },
   "file_extension": ".py",
   "mimetype": "text/x-python",
   "name": "python",
   "nbconvert_exporter": "python",
   "pygments_lexer": "ipython3",
   "version": "3.7.6"
  }
 },
 "nbformat": 4,
 "nbformat_minor": 4
}
