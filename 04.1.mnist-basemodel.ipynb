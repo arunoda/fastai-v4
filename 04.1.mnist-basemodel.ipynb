{
 "cells": [
  {
   "cell_type": "markdown",
   "metadata": {},
   "source": [
    "# MNIST - BaseModel\n",
    "\n",
    "Here we are trying to learn basics of deep learning with image classification as an example."
   ]
  },
  {
   "cell_type": "markdown",
   "metadata": {},
   "source": [
    "## Load some dataset\n",
    "\n",
    "For first, we need a dataset. For that, we are going to use the `MNIST` dataset. (Acutally we are using a subset of that)"
   ]
  },
  {
   "cell_type": "code",
   "execution_count": 1,
   "metadata": {},
   "outputs": [],
   "source": [
    "from fastai2.vision.all import *\n",
    "from utils import *\n",
    "\n",
    "matplotlib.rc('image', cmap='Greys')"
   ]
  },
  {
   "cell_type": "code",
   "execution_count": 2,
   "metadata": {},
   "outputs": [
    {
     "data": {
      "text/plain": [
       "Path('/storage/data/mnist_sample')"
      ]
     },
     "execution_count": 2,
     "metadata": {},
     "output_type": "execute_result"
    }
   ],
   "source": [
    "images_path = untar_data(URLs.MNIST_SAMPLE)\n",
    "images_path"
   ]
  },
  {
   "cell_type": "code",
   "execution_count": 3,
   "metadata": {},
   "outputs": [
    {
     "data": {
      "text/plain": [
       "(#3) [Path('/storage/data/mnist_sample/labels.csv'),Path('/storage/data/mnist_sample/valid'),Path('/storage/data/mnist_sample/train')]"
      ]
     },
     "execution_count": 3,
     "metadata": {},
     "output_type": "execute_result"
    }
   ],
   "source": [
    "images_path.ls()"
   ]
  },
  {
   "cell_type": "code",
   "execution_count": 4,
   "metadata": {},
   "outputs": [
    {
     "data": {
      "text/plain": [
       "(#2) [Path('/storage/data/mnist_sample/train/7'),Path('/storage/data/mnist_sample/train/3')]"
      ]
     },
     "execution_count": 4,
     "metadata": {},
     "output_type": "execute_result"
    }
   ],
   "source": [
    "(images_path/\"train\").ls()"
   ]
  },
  {
   "cell_type": "code",
   "execution_count": 5,
   "metadata": {},
   "outputs": [
    {
     "data": {
      "text/plain": [
       "(#6131) [Path('/storage/data/mnist_sample/train/3/26208.png'),Path('/storage/data/mnist_sample/train/3/12882.png'),Path('/storage/data/mnist_sample/train/3/58219.png'),Path('/storage/data/mnist_sample/train/3/13242.png'),Path('/storage/data/mnist_sample/train/3/53225.png'),Path('/storage/data/mnist_sample/train/3/51947.png'),Path('/storage/data/mnist_sample/train/3/57974.png'),Path('/storage/data/mnist_sample/train/3/9812.png'),Path('/storage/data/mnist_sample/train/3/6658.png'),Path('/storage/data/mnist_sample/train/3/11285.png')...]"
      ]
     },
     "execution_count": 5,
     "metadata": {},
     "output_type": "execute_result"
    }
   ],
   "source": [
    "(images_path/\"train\"/\"3\").ls()"
   ]
  },
  {
   "cell_type": "code",
   "execution_count": 6,
   "metadata": {},
   "outputs": [],
   "source": [
    "three_paths = (images_path/\"train\"/\"3\").ls().sorted()\n",
    "seven_paths = (images_path/\"train\"/\"7\").ls().sorted()"
   ]
  },
  {
   "cell_type": "code",
   "execution_count": 7,
   "metadata": {},
   "outputs": [
    {
     "data": {
      "text/plain": [
       "(#6265) [Path('/storage/data/mnist_sample/train/7/10002.png'),Path('/storage/data/mnist_sample/train/7/1001.png'),Path('/storage/data/mnist_sample/train/7/10014.png'),Path('/storage/data/mnist_sample/train/7/10019.png'),Path('/storage/data/mnist_sample/train/7/10039.png'),Path('/storage/data/mnist_sample/train/7/10046.png'),Path('/storage/data/mnist_sample/train/7/10050.png'),Path('/storage/data/mnist_sample/train/7/10063.png'),Path('/storage/data/mnist_sample/train/7/10077.png'),Path('/storage/data/mnist_sample/train/7/10086.png')...]"
      ]
     },
     "execution_count": 7,
     "metadata": {},
     "output_type": "execute_result"
    }
   ],
   "source": [
    "seven_paths"
   ]
  },
  {
   "cell_type": "code",
   "execution_count": 8,
   "metadata": {},
   "outputs": [
    {
     "data": {
      "image/png": "[encoded data removed]",
      "text/plain": [
       "<PIL.PngImagePlugin.PngImageFile image mode=L size=28x28 at 0x7F256D8AD610>"
      ]
     },
     "execution_count": 8,
     "metadata": {},
     "output_type": "execute_result"
    }
   ],
   "source": [
    "im_seven = Image.open(seven_paths[10])\n",
    "im_seven"
   ]
  },
  {
   "cell_type": "markdown",
   "metadata": {},
   "source": [
    "## Converting Image into Data\n",
    "\n",
    "To do something interesting, we need to convert these images into data."
   ]
  },
  {
   "cell_type": "code",
   "execution_count": 9,
   "metadata": {},
   "outputs": [
    {
     "data": {
      "text/plain": [
       "(28, 28)"
      ]
     },
     "execution_count": 9,
     "metadata": {},
     "output_type": "execute_result"
    }
   ],
   "source": [
    "## This is the numpy array.\n",
    "array(im_seven).shape"
   ]
  },
  {
   "cell_type": "code",
   "execution_count": 10,
   "metadata": {},
   "outputs": [
    {
     "data": {
      "text/plain": [
       "torch.Size([28, 28])"
      ]
     },
     "execution_count": 10,
     "metadata": {},
     "output_type": "execute_result"
    }
   ],
   "source": [
    "## This is same thing but with pytorch. So, we will be using that from now on.\n",
    "tsr_seven = tensor(im_seven)\n",
    "tsr_seven.shape"
   ]
  },
  {
   "cell_type": "code",
   "execution_count": 11,
   "metadata": {},
   "outputs": [],
   "source": [
    "## This image is 2 dimention array (or a 2D matrix)\n",
    "## Let's play with that."
   ]
  },
  {
   "cell_type": "code",
   "execution_count": 12,
   "metadata": {},
   "outputs": [
    {
     "data": {
      "text/plain": [
       "tensor([  0,   0,   0,   0,   0,   0,   0,   0,  15,  89, 254, 254, 254, 197,  32,   0,   0,   0,  76, 254, 140,   0,   0,   0,   0,   0,   0,   0], dtype=torch.uint8)"
      ]
     },
     "execution_count": 12,
     "metadata": {},
     "output_type": "execute_result"
    }
   ],
   "source": [
    "# This is the 10th row\n",
    "tsr_seven[9,:]"
   ]
  },
  {
   "cell_type": "code",
   "execution_count": 13,
   "metadata": {},
   "outputs": [
    {
     "data": {
      "text/plain": [
       "tensor([  0,   0,   0,   0,   0,   0,   0,  98, 249,  32,   0,   0,   0,   0,   0,   0, 127, 244, 254, 235, 102,  18,   0,   0,   0,   0,   0,   0], dtype=torch.uint8)"
      ]
     },
     "execution_count": 13,
     "metadata": {},
     "output_type": "execute_result"
    }
   ],
   "source": [
    "# This the 15th column\n",
    "tsr_seven[:, 14]"
   ]
  },
  {
   "cell_type": "code",
   "execution_count": 14,
   "metadata": {},
   "outputs": [
    {
     "data": {
      "text/plain": [
       "tensor([[  0,   0,   0,   0,   0,   0,   0,   0,  15,  89, 254, 254, 254, 197,  32,   0,   0,   0,  76, 254, 140,   0,   0,   0,   0,   0,   0,   0],\n",
       "        [  0,   0,   0,   0,   0,   0,   0,  15, 155, 254, 254, 187,  32,   5,   0,   0,   0,  15, 197, 243,  34,   0,   0,   0,   0,   0,   0,   0]], dtype=torch.uint8)"
      ]
     },
     "execution_count": 14,
     "metadata": {},
     "output_type": "execute_result"
    }
   ],
   "source": [
    "# This is rows 10 and 11\n",
    "tsr_seven[9:11, :]"
   ]
  },
  {
   "cell_type": "code",
   "execution_count": 15,
   "metadata": {},
   "outputs": [
    {
     "data": {
      "text/plain": [
       "tensor([[ 89, 254, 254, 254, 197],\n",
       "        [254, 254, 187,  32,   5]], dtype=torch.uint8)"
      ]
     },
     "execution_count": 15,
     "metadata": {},
     "output_type": "execute_result"
    }
   ],
   "source": [
    "# This is rows 10 to 12 and colum 10 to 15\n",
    "tsr_seven[9:11, 9:14]"
   ]
  },
  {
   "cell_type": "code",
   "execution_count": 16,
   "metadata": {},
   "outputs": [
    {
     "data": {
      "text/plain": [
       "<matplotlib.axes._subplots.AxesSubplot at 0x7f256d7cf090>"
      ]
     },
     "execution_count": 16,
     "metadata": {},
     "output_type": "execute_result"
    },
    {
     "data": {
      "image/png": "[encoded data removed]",
      "text/plain": [
       "<Figure size 72x72 with 1 Axes>"
      ]
     },
     "metadata": {
      "needs_background": "light"
     },
     "output_type": "display_data"
    }
   ],
   "source": [
    "# Let's visualize one of those tensors\n",
    "show_image(tsr_seven[:, 10:15])"
   ]
  },
  {
   "cell_type": "markdown",
   "metadata": {},
   "source": [
    "## Baseline Model\n",
    "\n",
    "Here our idea is to create a model to detect 3 and 7 from our dataset. Before we are trying to do anything fancy, we need to create easy to create model. It should easy to create.\n",
    "\n",
    "Then we can compare our future fancy model with this baseline and see whether it's an improvement or not."
   ]
  },
  {
   "cell_type": "code",
   "execution_count": 17,
   "metadata": {},
   "outputs": [],
   "source": [
    "lst_threes = [tensor(Image.open(p)) for p in three_paths]\n",
    "lst_sevens = [tensor(Image.open(p)) for p in seven_paths]"
   ]
  },
  {
   "cell_type": "code",
   "execution_count": 18,
   "metadata": {},
   "outputs": [
    {
     "data": {
      "text/plain": [
       "torch.Size([28, 28])"
      ]
     },
     "execution_count": 18,
     "metadata": {},
     "output_type": "execute_result"
    }
   ],
   "source": [
    "lst_threes[1].shape"
   ]
  },
  {
   "cell_type": "markdown",
   "metadata": {},
   "source": [
    "As you see the output is a list of tensors. \n",
    "\n",
    "**But in order to work with pytorch, we need to get convert them into a tensor.**"
   ]
  },
  {
   "cell_type": "code",
   "execution_count": 19,
   "metadata": {},
   "outputs": [],
   "source": [
    "## We also make those values from 0-1 range. That's the usual way we work with images.\n",
    "tsr_threes = torch.stack(lst_threes).float()/255\n",
    "tsr_sevens = torch.stack(lst_sevens).float()/255"
   ]
  },
  {
   "cell_type": "code",
   "execution_count": 20,
   "metadata": {},
   "outputs": [
    {
     "data": {
      "text/plain": [
       "torch.Size([6265, 28, 28])"
      ]
     },
     "execution_count": 20,
     "metadata": {},
     "output_type": "execute_result"
    }
   ],
   "source": [
    "tsr_sevens.shape"
   ]
  },
  {
   "cell_type": "code",
   "execution_count": 21,
   "metadata": {},
   "outputs": [
    {
     "data": {
      "text/plain": [
       "<matplotlib.axes._subplots.AxesSubplot at 0x7f256b40c490>"
      ]
     },
     "execution_count": 21,
     "metadata": {},
     "output_type": "execute_result"
    },
    {
     "data": {
      "image/png": "[encoded data removed]",
      "text/plain": [
       "<Figure size 72x72 with 1 Axes>"
      ]
     },
     "metadata": {
      "needs_background": "light"
     },
     "output_type": "display_data"
    }
   ],
   "source": [
    "show_image(tsr_sevens[0])"
   ]
  },
  {
   "cell_type": "markdown",
   "metadata": {},
   "source": [
    "As you can see, now we moved all of our images into a tensor. So, we can work on it."
   ]
  },
  {
   "cell_type": "markdown",
   "metadata": {},
   "source": [
    "### Mean Image\n",
    "\n",
    "In order to finish our baseline model, we will be get the mean of these stackes images and compare them with each of the image.\n",
    "\n",
    "So, first we need to get the mean image. Here's how we do that"
   ]
  },
  {
   "cell_type": "code",
   "execution_count": 22,
   "metadata": {},
   "outputs": [
    {
     "data": {
      "text/plain": [
       "<matplotlib.axes._subplots.AxesSubplot at 0x7f256b3cc2d0>"
      ]
     },
     "execution_count": 22,
     "metadata": {},
     "output_type": "execute_result"
    },
    {
     "data": {
      "image/png": "[encoded data removed]",
      "text/plain": [
       "<Figure size 72x72 with 1 Axes>"
      ]
     },
     "metadata": {
      "needs_background": "light"
     },
     "output_type": "display_data"
    }
   ],
   "source": [
    "tsr_mean_threes = tsr_threes.mean(0)\n",
    "show_image(tsr_mean_threes)"
   ]
  },
  {
   "cell_type": "code",
   "execution_count": 23,
   "metadata": {},
   "outputs": [
    {
     "data": {
      "text/plain": [
       "<matplotlib.axes._subplots.AxesSubplot at 0x7f256d7b4ed0>"
      ]
     },
     "execution_count": 23,
     "metadata": {},
     "output_type": "execute_result"
    },
    {
     "data": {
      "image/png": "[encoded data removed]",
      "text/plain": [
       "<Figure size 72x72 with 1 Axes>"
      ]
     },
     "metadata": {
      "needs_background": "light"
     },
     "output_type": "display_data"
    }
   ],
   "source": [
    "tsr_mean_sevens = tsr_sevens.mean(0)\n",
    "show_image(tsr_mean_sevens)"
   ]
  },
  {
   "cell_type": "markdown",
   "metadata": {},
   "source": [
    "## Predicting the Number\n",
    "\n",
    "Now have stacked images of 3s, and 7s and we need to predict the number for a given image.\n",
    "Let's pick one of the 3s."
   ]
  },
  {
   "cell_type": "code",
   "execution_count": 24,
   "metadata": {},
   "outputs": [
    {
     "data": {
      "text/plain": [
       "<matplotlib.axes._subplots.AxesSubplot at 0x7f256b351490>"
      ]
     },
     "execution_count": 24,
     "metadata": {},
     "output_type": "execute_result"
    },
    {
     "data": {
      "image/png": "[encoded data removed]",
      "text/plain": [
       "<Figure size 72x72 with 1 Axes>"
      ]
     },
     "metadata": {
      "needs_background": "light"
     },
     "output_type": "display_data"
    }
   ],
   "source": [
    "tsr_three = tsr_threes[0]\n",
    "show_image(tsr_three)"
   ]
  },
  {
   "cell_type": "markdown",
   "metadata": {},
   "source": [
    "### Loss Function\n",
    "\n",
    "To do the prediction, we need to compare this image with the mean image. For that, we use a loss function. Simple pixel different won't work here due to positive and negative differences.\n",
    "\n",
    "For these loss functions, we can think of two methods\n",
    "\n",
    "1. Mean Absolute Difference (L1 norm)\n",
    "2. Root Mean Squared Error (L2 norm)"
   ]
  },
  {
   "cell_type": "code",
   "execution_count": 25,
   "metadata": {},
   "outputs": [
    {
     "data": {
      "text/plain": [
       "(tensor(0.1074), tensor(0.1441))"
      ]
     },
     "execution_count": 25,
     "metadata": {},
     "output_type": "execute_result"
    }
   ],
   "source": [
    "## 1. ABS - L1 norm\n",
    "\n",
    "loss_abs_for_three = (tsr_mean_threes - tsr_three).abs().mean()\n",
    "loss_abs_for_seven = (tsr_mean_sevens - tsr_three).abs().mean()\n",
    "loss_abs_for_three, loss_abs_for_seven"
   ]
  },
  {
   "cell_type": "markdown",
   "metadata": {},
   "source": [
    "As you can see, this image has lower loss for three rather seven. **So, we can predict this number as a three.**"
   ]
  },
  {
   "cell_type": "code",
   "execution_count": 26,
   "metadata": {},
   "outputs": [
    {
     "data": {
      "text/plain": [
       "(tensor(0.1912), tensor(0.2780))"
      ]
     },
     "execution_count": 26,
     "metadata": {},
     "output_type": "execute_result"
    }
   ],
   "source": [
    "### 2. RMSE - L2 norm\n",
    "\n",
    "loss_rmse_for_three = ((tsr_mean_threes - tsr_three) ** 2).mean().sqrt()\n",
    "loss_rmse_for_seven = ((tsr_mean_sevens - tsr_three) ** 2).mean().sqrt()\n",
    "loss_rmse_for_three, loss_rmse_for_seven"
   ]
  },
  {
   "cell_type": "markdown",
   "metadata": {},
   "source": [
    "Even with **RMSE** it's closer to three. But in this time, the difference between two losses are grater than previous. \n",
    "\n",
    "**So, RMSE might be a good choice.**"
   ]
  },
  {
   "cell_type": "markdown",
   "metadata": {},
   "source": [
    "### Using built-in pytorch goodies.\n",
    "\n",
    "We can calculate above errors, very easily with pytorch's built-in functions.\n",
    "Let's try those for just for three."
   ]
  },
  {
   "cell_type": "code",
   "execution_count": 27,
   "metadata": {},
   "outputs": [
    {
     "data": {
      "text/plain": [
       "tensor(0.1074)"
      ]
     },
     "execution_count": 27,
     "metadata": {},
     "output_type": "execute_result"
    }
   ],
   "source": [
    "pt_loss_abs_for_three = F.l1_loss(tsr_mean_threes, tsr_three)\n",
    "pt_loss_abs_for_three"
   ]
  },
  {
   "cell_type": "code",
   "execution_count": 28,
   "metadata": {},
   "outputs": [
    {
     "data": {
      "text/plain": [
       "tensor(0.1912)"
      ]
     },
     "execution_count": 28,
     "metadata": {},
     "output_type": "execute_result"
    }
   ],
   "source": [
    "pt_loss_rmse_for_three = F.mse_loss(tsr_mean_threes, tsr_three).sqrt()\n",
    "pt_loss_rmse_for_three"
   ]
  },
  {
   "cell_type": "markdown",
   "metadata": {},
   "source": [
    "As we expected, they are the same."
   ]
  },
  {
   "cell_type": "markdown",
   "metadata": {},
   "source": [
    "## Learn Some pyTorch Goodies\n",
    "\n",
    "Before we go further, we need to experiment with some pytorch goodies, we will be using next in this lesson.\n",
    "Those are:\n",
    "\n",
    "1. Broadcasting\n",
    "2. Tensor Dimensions"
   ]
  },
  {
   "cell_type": "markdown",
   "metadata": {},
   "source": [
    "### Broadcasting\n",
    "\n",
    "We can do basic arithmatics even if the right hand side tensor's dimensions are different"
   ]
  },
  {
   "cell_type": "code",
   "execution_count": 39,
   "metadata": {},
   "outputs": [
    {
     "data": {
      "text/plain": [
       "tensor([15, 25])"
      ]
     },
     "execution_count": 39,
     "metadata": {},
     "output_type": "execute_result"
    }
   ],
   "source": [
    "a = tensor([10, 20])\n",
    "b = tensor(5)\n",
    "a + b"
   ]
  },
  {
   "cell_type": "code",
   "execution_count": 40,
   "metadata": {},
   "outputs": [
    {
     "data": {
      "text/plain": [
       "tensor([[ 15,  25],\n",
       "        [105, 205]])"
      ]
     },
     "execution_count": 40,
     "metadata": {},
     "output_type": "execute_result"
    }
   ],
   "source": [
    "a = tensor([\n",
    "    [10, 20],\n",
    "    [100, 200]\n",
    "])\n",
    "b = tensor(5)\n",
    "a + b"
   ]
  },
  {
   "cell_type": "code",
   "execution_count": 43,
   "metadata": {},
   "outputs": [
    {
     "data": {
      "text/plain": [
       "tensor([[ 15,  21],\n",
       "        [105, 201]])"
      ]
     },
     "execution_count": 43,
     "metadata": {},
     "output_type": "execute_result"
    }
   ],
   "source": [
    "a = tensor([\n",
    "    [10, 20],\n",
    "    [100, 200]\n",
    "])\n",
    "b = tensor([5, 1])\n",
    "a + b"
   ]
  },
  {
   "cell_type": "markdown",
   "metadata": {},
   "source": [
    "### Tensor Dimensions\n",
    "\n",
    "It's very important to understand what tensor dimensions inorder to work with different operations into them.\n",
    "[This article](https://towardsdatascience.com/understanding-dimensions-in-pytorch-6edf9972d3be) helps a lot."
   ]
  },
  {
   "cell_type": "code",
   "execution_count": 99,
   "metadata": {},
   "outputs": [
    {
     "data": {
      "text/plain": [
       "torch.Size([2, 2, 3])"
      ]
     },
     "execution_count": 99,
     "metadata": {},
     "output_type": "execute_result"
    }
   ],
   "source": [
    "a = tensor(\n",
    "[\n",
    "    [\n",
    "        [10, 20, 30],\n",
    "        [100, 200, 300]\n",
    "    ],\n",
    "    \n",
    "    [\n",
    "        [10, 20, 30],\n",
    "        [100, 200, 300]\n",
    "    ]\n",
    "]\n",
    ").float()\n",
    "a.shape"
   ]
  },
  {
   "cell_type": "code",
   "execution_count": 119,
   "metadata": {},
   "outputs": [
    {
     "data": {
      "text/plain": [
       "tensor([[ 60., 600.],\n",
       "        [ 60., 600.]])"
      ]
     },
     "execution_count": 119,
     "metadata": {},
     "output_type": "execute_result"
    }
   ],
   "source": [
    "a.sum((2))"
   ]
  },
  {
   "cell_type": "code",
   "execution_count": 115,
   "metadata": {},
   "outputs": [
    {
     "data": {
      "text/plain": [
       "tensor([ 120., 1200.])"
      ]
     },
     "execution_count": 115,
     "metadata": {},
     "output_type": "execute_result"
    }
   ],
   "source": [
    "a.sum((2, 0))"
   ]
  },
  {
   "cell_type": "code",
   "execution_count": 116,
   "metadata": {},
   "outputs": [
    {
     "data": {
      "text/plain": [
       "tensor([[ 20.,  40.,  60.],\n",
       "        [200., 400., 600.]])"
      ]
     },
     "execution_count": 116,
     "metadata": {},
     "output_type": "execute_result"
    }
   ],
   "source": [
    "a.sum((0))"
   ]
  },
  {
   "cell_type": "code",
   "execution_count": 117,
   "metadata": {},
   "outputs": [
    {
     "data": {
      "text/plain": [
       "tensor([ 120., 1200.])"
      ]
     },
     "execution_count": 117,
     "metadata": {},
     "output_type": "execute_result"
    }
   ],
   "source": [
    "a.sum((0, 2))"
   ]
  },
  {
   "cell_type": "markdown",
   "metadata": {},
   "source": [
    "## MNIST Accuracy\n",
    "\n",
    "Now we know how to work with the loss function. But we cannot use that loss function to asset the model over a set of images. What we need is accuracy.\n",
    "\n",
    "This is something used in common for classification related models.\n"
   ]
  },
  {
   "cell_type": "code",
   "execution_count": 155,
   "metadata": {},
   "outputs": [
    {
     "data": {
      "text/plain": [
       "(torch.Size([1010, 28, 28]), torch.Size([1028, 28, 28]))"
      ]
     },
     "execution_count": 155,
     "metadata": {},
     "output_type": "execute_result"
    }
   ],
   "source": [
    "## Let's load our validation images\n",
    "tsr_valid_threes = torch.stack([tensor(Image.open(im)).float()/255 for im in (images_path/\"valid\"/\"3\").ls()])\n",
    "tsr_valid_sevens = torch.stack([tensor(Image.open(im)).float()/255 for im in (images_path/\"valid\"/\"7\").ls()])\n",
    "tsr_valid_threes.shape, tsr_valid_sevens.shape"
   ]
  },
  {
   "cell_type": "code",
   "execution_count": 188,
   "metadata": {},
   "outputs": [
    {
     "name": "stdout",
     "output_type": "stream",
     "text": [
      "tensor(95.8416)\n"
     ]
    }
   ],
   "source": [
    "def find_threes_accuracy():\n",
    "    loss_threes = ((tsr_valid_threes - tsr_mean_threes)**2).mean((1, 2)).sqrt();\n",
    "    loss_sevens = ((tsr_valid_threes - tsr_mean_sevens)**2).mean((1, 2)).sqrt();\n",
    "    \n",
    "    is_three = loss_threes < loss_sevens\n",
    "    accuracy = (torch.sum(is_three == True).float() / len(is_three)) * 100.0\n",
    "    \n",
    "    return accuracy\n",
    "    \n",
    "print(find_threes_accuracy())"
   ]
  },
  {
   "cell_type": "code",
   "execution_count": 190,
   "metadata": {},
   "outputs": [
    {
     "name": "stdout",
     "output_type": "stream",
     "text": [
      "tensor(97.3735)\n"
     ]
    }
   ],
   "source": [
    "def find_sevens_accuracy():\n",
    "    loss_threes = ((tsr_valid_sevens - tsr_mean_threes)**2).mean((1, 2)).sqrt();\n",
    "    loss_sevens = ((tsr_valid_sevens - tsr_mean_sevens)**2).mean((1, 2)).sqrt();\n",
    "    \n",
    "    is_three = loss_threes < loss_sevens\n",
    "    accuracy = (torch.sum(is_three == False).float() / len(is_three)) * 100.0\n",
    "    \n",
    "    return accuracy\n",
    "    \n",
    "print(find_sevens_accuracy())"
   ]
  },
  {
   "cell_type": "code",
   "execution_count": 215,
   "metadata": {},
   "outputs": [],
   "source": [
    "## Let's generalize both of the above functions\n",
    "\n",
    "def find_accuracy_with_l1(tsr_input, expected_is_three):\n",
    "    loss_threes = (tsr_input - tsr_mean_threes).abs().mean((1, 2));\n",
    "    loss_sevens = (tsr_input - tsr_mean_sevens).abs().mean((1, 2));\n",
    "    \n",
    "    is_three = loss_threes < loss_sevens\n",
    "    accuracy = (torch.sum(is_three == expected_is_three).float() / len(is_three)) * 100.0\n",
    "    \n",
    "    return accuracy\n",
    "\n",
    "def find_accuracy_with_l2(tsr_input, expected_is_three):\n",
    "    loss_threes = ((tsr_input - tsr_mean_threes)**2).mean((1, 2)).sqrt();\n",
    "    loss_sevens = ((tsr_input - tsr_mean_sevens)**2).mean((1, 2)).sqrt();\n",
    "    \n",
    "    is_three = loss_threes < loss_sevens\n",
    "    accuracy = (torch.sum(is_three == expected_is_three).float() / len(is_three)) * 100.0\n",
    "    \n",
    "    return accuracy"
   ]
  },
  {
   "cell_type": "code",
   "execution_count": 220,
   "metadata": {},
   "outputs": [
    {
     "data": {
      "text/plain": [
       "(tensor(91.6832), tensor(98.5409))"
      ]
     },
     "execution_count": 220,
     "metadata": {},
     "output_type": "execute_result"
    }
   ],
   "source": [
    "acc_threes = find_accuracy_with_l1(tsr_valid_threes, True)\n",
    "acc_sevens = find_accuracy_with_l1(tsr_valid_sevens, False)\n",
    "acc_threes, acc_sevens"
   ]
  },
  {
   "cell_type": "code",
   "execution_count": 221,
   "metadata": {},
   "outputs": [
    {
     "data": {
      "text/plain": [
       "tensor(95.1120)"
      ]
     },
     "execution_count": 221,
     "metadata": {},
     "output_type": "execute_result"
    }
   ],
   "source": [
    "overall_accuracy = (acc_threes + acc_sevens)/2\n",
    "overall_accuracy"
   ]
  },
  {
   "cell_type": "markdown",
   "metadata": {},
   "source": [
    "As we can see, our model is very good for comparing 3 and 7 even with the very simple basemodel.\n",
    "But 3 and 7 are very different letters. \n",
    "\n",
    "It's very interesting to compare these with 3 and 8 with this model."
   ]
  },
  {
   "cell_type": "code",
   "execution_count": null,
   "metadata": {},
   "outputs": [],
   "source": []
  }
 ],
 "metadata": {
  "kernelspec": {
   "display_name": "Python 3",
   "language": "python",
   "name": "python3"
  },
  "language_info": {
   "codemirror_mode": {
    "name": "ipython",
    "version": 3
   },
   "file_extension": ".py",
   "mimetype": "text/x-python",
   "name": "python",
   "nbconvert_exporter": "python",
   "pygments_lexer": "ipython3",
   "version": "3.7.6"
  }
 },
 "nbformat": 4,
 "nbformat_minor": 4
}
