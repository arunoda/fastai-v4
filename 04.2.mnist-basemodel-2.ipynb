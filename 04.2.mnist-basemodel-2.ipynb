{
 "cells": [
  {
   "cell_type": "markdown",
   "metadata": {},
   "source": [
    "# MNIST BaseModel 2\n",
    "\n",
    "This is the same as the previous avergaing model. But this is for the numbers and `3` and `8`. \n",
    "\n",
    "They are very similar. With that, we can really check the performance on this basemodel."
   ]
  },
  {
   "cell_type": "code",
   "execution_count": 19,
   "metadata": {},
   "outputs": [],
   "source": [
    "from fastai2.vision.all import *\n",
    "from utils import *\n",
    "matplotlib.rc('image', cmap='Greys')"
   ]
  },
  {
   "cell_type": "markdown",
   "metadata": {},
   "source": [
    "## Inspecting the Dataset"
   ]
  },
  {
   "cell_type": "code",
   "execution_count": 20,
   "metadata": {},
   "outputs": [],
   "source": [
    "images_path = untar_data(URLs.MNIST)"
   ]
  },
  {
   "cell_type": "code",
   "execution_count": 21,
   "metadata": {},
   "outputs": [
    {
     "data": {
      "text/plain": [
       "(#2) [Path('/storage/data/mnist_png/training'),Path('/storage/data/mnist_png/testing')]"
      ]
     },
     "execution_count": 21,
     "metadata": {},
     "output_type": "execute_result"
    }
   ],
   "source": [
    "images_path.ls()"
   ]
  },
  {
   "cell_type": "code",
   "execution_count": 22,
   "metadata": {},
   "outputs": [
    {
     "data": {
      "text/plain": [
       "(#10) [Path('/storage/data/mnist_png/training/0'),Path('/storage/data/mnist_png/training/2'),Path('/storage/data/mnist_png/training/9'),Path('/storage/data/mnist_png/training/8'),Path('/storage/data/mnist_png/training/7'),Path('/storage/data/mnist_png/training/1'),Path('/storage/data/mnist_png/training/5'),Path('/storage/data/mnist_png/training/4'),Path('/storage/data/mnist_png/training/6'),Path('/storage/data/mnist_png/training/3')]"
      ]
     },
     "execution_count": 22,
     "metadata": {},
     "output_type": "execute_result"
    }
   ],
   "source": [
    "(images_path/\"training\").ls()"
   ]
  },
  {
   "cell_type": "code",
   "execution_count": 23,
   "metadata": {},
   "outputs": [
    {
     "data": {
      "text/plain": [
       "(#6131) [Path('/storage/data/mnist_png/training/3/26208.png'),Path('/storage/data/mnist_png/training/3/12882.png'),Path('/storage/data/mnist_png/training/3/58219.png'),Path('/storage/data/mnist_png/training/3/13242.png'),Path('/storage/data/mnist_png/training/3/53225.png'),Path('/storage/data/mnist_png/training/3/51947.png'),Path('/storage/data/mnist_png/training/3/57974.png'),Path('/storage/data/mnist_png/training/3/9812.png'),Path('/storage/data/mnist_png/training/3/6658.png'),Path('/storage/data/mnist_png/training/3/11285.png')...]"
      ]
     },
     "execution_count": 23,
     "metadata": {},
     "output_type": "execute_result"
    }
   ],
   "source": [
    "(images_path/\"training\"/\"3\").ls()"
   ]
  },
  {
   "cell_type": "code",
   "execution_count": 24,
   "metadata": {},
   "outputs": [
    {
     "data": {
      "text/plain": [
       "(#5851) [Path('/storage/data/mnist_png/training/8/2063.png'),Path('/storage/data/mnist_png/training/8/43072.png'),Path('/storage/data/mnist_png/training/8/52884.png'),Path('/storage/data/mnist_png/training/8/49831.png'),Path('/storage/data/mnist_png/training/8/48037.png'),Path('/storage/data/mnist_png/training/8/38044.png'),Path('/storage/data/mnist_png/training/8/12886.png'),Path('/storage/data/mnist_png/training/8/10655.png'),Path('/storage/data/mnist_png/training/8/10079.png'),Path('/storage/data/mnist_png/training/8/45027.png')...]"
      ]
     },
     "execution_count": 24,
     "metadata": {},
     "output_type": "execute_result"
    }
   ],
   "source": [
    "(images_path/\"training\"/\"8\").ls()"
   ]
  },
  {
   "cell_type": "markdown",
   "metadata": {},
   "source": [
    "## Creating Mean Images"
   ]
  },
  {
   "cell_type": "code",
   "execution_count": 25,
   "metadata": {},
   "outputs": [],
   "source": [
    "tsr_train_threes = torch.stack([tensor(Image.open(im)) for im in (images_path/\"training\"/\"3\").ls()]).float()/255\n",
    "tsr_train_eights = torch.stack([tensor(Image.open(im)) for im in (images_path/\"training\"/\"8\").ls()]).float()/255"
   ]
  },
  {
   "cell_type": "code",
   "execution_count": 26,
   "metadata": {},
   "outputs": [
    {
     "data": {
      "text/plain": [
       "(torch.Size([6131, 28, 28]), torch.Size([5851, 28, 28]))"
      ]
     },
     "execution_count": 26,
     "metadata": {},
     "output_type": "execute_result"
    }
   ],
   "source": [
    "tsr_train_threes.shape, tsr_train_eights.shape"
   ]
  },
  {
   "cell_type": "code",
   "execution_count": 27,
   "metadata": {},
   "outputs": [
    {
     "data": {
      "text/plain": [
       "<matplotlib.axes._subplots.AxesSubplot at 0x7fae9a727d10>"
      ]
     },
     "execution_count": 27,
     "metadata": {},
     "output_type": "execute_result"
    },
    {
     "data": {
      "image/png": "[encoded data removed]",
      "text/plain": [
       "<Figure size 72x72 with 1 Axes>"
      ]
     },
     "metadata": {
      "needs_background": "light"
     },
     "output_type": "display_data"
    }
   ],
   "source": [
    "show_image(tsr_train_threes[0])"
   ]
  },
  {
   "cell_type": "code",
   "execution_count": 28,
   "metadata": {},
   "outputs": [
    {
     "data": {
      "text/plain": [
       "<matplotlib.axes._subplots.AxesSubplot at 0x7fae99631a50>"
      ]
     },
     "execution_count": 28,
     "metadata": {},
     "output_type": "execute_result"
    },
    {
     "data": {
      "image/png": "[encoded data removed]",
      "text/plain": [
       "<Figure size 72x72 with 1 Axes>"
      ]
     },
     "metadata": {
      "needs_background": "light"
     },
     "output_type": "display_data"
    }
   ],
   "source": [
    "tsr_mean_threes = tsr_train_threes.mean(0)\n",
    "show_image(tsr_mean_threes)"
   ]
  },
  {
   "cell_type": "code",
   "execution_count": 29,
   "metadata": {},
   "outputs": [
    {
     "data": {
      "text/plain": [
       "<matplotlib.axes._subplots.AxesSubplot at 0x7fae9930b310>"
      ]
     },
     "execution_count": 29,
     "metadata": {},
     "output_type": "execute_result"
    },
    {
     "data": {
      "image/png": "[encoded data removed]",
      "text/plain": [
       "<Figure size 72x72 with 1 Axes>"
      ]
     },
     "metadata": {
      "needs_background": "light"
     },
     "output_type": "display_data"
    }
   ],
   "source": [
    "tsr_mean_eights = tsr_train_eights.mean(0)\n",
    "show_image(tsr_mean_eights)"
   ]
  },
  {
   "cell_type": "markdown",
   "metadata": {},
   "source": [
    "## Finding Accuracy"
   ]
  },
  {
   "cell_type": "code",
   "execution_count": 30,
   "metadata": {},
   "outputs": [],
   "source": [
    "tsr_valid_threes = torch.stack([tensor(Image.open(im)) for im in (images_path/\"testing\"/\"3\").ls()]).float() / 255\n",
    "tsr_valid_eights = torch.stack([tensor(Image.open(im)) for im in (images_path/\"testing\"/\"8\").ls()]).float() / 255"
   ]
  },
  {
   "cell_type": "code",
   "execution_count": 31,
   "metadata": {},
   "outputs": [
    {
     "data": {
      "text/plain": [
       "(torch.Size([974, 28, 28]), torch.Size([974, 28, 28]))"
      ]
     },
     "execution_count": 31,
     "metadata": {},
     "output_type": "execute_result"
    }
   ],
   "source": [
    "tsr_valid_eights.shape, tsr_valid_eights.shape"
   ]
  },
  {
   "cell_type": "code",
   "execution_count": 32,
   "metadata": {},
   "outputs": [],
   "source": [
    "def find_accuracy(tsr_input, expected_is_three):\n",
    "    loss_threes = ((tsr_input - tsr_mean_threes) ** 2).mean((1, 2)).sqrt()\n",
    "    loss_eights = ((tsr_input - tsr_mean_eights) ** 2).mean((1, 2)).sqrt()\n",
    "    \n",
    "    is_three = loss_threes < loss_eights\n",
    "    accuracy = (torch.sum(is_three == expected_is_three)).float()/len(is_three) * 100\n",
    "    return accuracy"
   ]
  },
  {
   "cell_type": "code",
   "execution_count": 33,
   "metadata": {},
   "outputs": [
    {
     "data": {
      "text/plain": [
       "(tensor(90.7921), tensor(87.9877))"
      ]
     },
     "execution_count": 33,
     "metadata": {},
     "output_type": "execute_result"
    }
   ],
   "source": [
    "acc_threes = find_accuracy(tsr_valid_threes, True)\n",
    "acc_eights = find_accuracy(tsr_valid_eights, False)\n",
    "\n",
    "acc_threes, acc_eights"
   ]
  },
  {
   "cell_type": "code",
   "execution_count": 34,
   "metadata": {},
   "outputs": [
    {
     "data": {
      "text/plain": [
       "tensor(89.3899)"
      ]
     },
     "execution_count": 34,
     "metadata": {},
     "output_type": "execute_result"
    }
   ],
   "source": [
    "acc_overall = (acc_threes + acc_eights) /2 \n",
    "acc_overall"
   ]
  },
  {
   "cell_type": "markdown",
   "metadata": {},
   "source": [
    "## Conclusion\n",
    "\n",
    "Earlier with 3 and 7 we got accuracy around 95%. But now, it's around 89%.\n",
    "\n",
    "So, this mean base model gets worst due to the similarity of numbers."
   ]
  },
  {
   "cell_type": "code",
   "execution_count": null,
   "metadata": {},
   "outputs": [],
   "source": []
  }
 ],
 "metadata": {
  "kernelspec": {
   "display_name": "Python 3",
   "language": "python",
   "name": "python3"
  },
  "language_info": {
   "codemirror_mode": {
    "name": "ipython",
    "version": 3
   },
   "file_extension": ".py",
   "mimetype": "text/x-python",
   "name": "python",
   "nbconvert_exporter": "python",
   "pygments_lexer": "ipython3",
   "version": "3.7.6"
  }
 },
 "nbformat": 4,
 "nbformat_minor": 4
}
