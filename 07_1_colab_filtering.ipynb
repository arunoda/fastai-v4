{
  "nbformat": 4,
  "nbformat_minor": 0,
  "metadata": {
    "kernelspec": {
      "display_name": "Python 3",
      "language": "python",
      "name": "python3"
    },
    "language_info": {
      "codemirror_mode": {
        "name": "ipython",
        "version": 3
      },
      "file_extension": ".py",
      "mimetype": "text/x-python",
      "name": "python",
      "nbconvert_exporter": "python",
      "pygments_lexer": "ipython3",
      "version": "3.7.6"
    },
    "colab": {
      "name": "07_1_colab_filtering",
      "provenance": [],
      "collapsed_sections": [],
      "include_colab_link": true
    },
    "accelerator": "GPU"
  },
  "cells": [
    {
      "cell_type": "markdown",
      "metadata": {
        "id": "view-in-github",
        "colab_type": "text"
      },
      "source": [
        "<a href=\"https://colab.research.google.com/github/arunoda/fastai-v4/blob/master/07_1_colab_filtering.ipynb\" target=\"_parent\"><img src=\"https://colab.research.google.com/assets/colab-badge.svg\" alt=\"Open In Colab\"/></a>"
      ]
    },
    {
      "cell_type": "markdown",
      "metadata": {
        "id": "SNBjBpstNwt7",
        "colab_type": "text"
      },
      "source": [
        "# **Coloabrative Filtering with fast.ai**"
      ]
    },
    {
      "cell_type": "markdown",
      "metadata": {
        "id": "T2yXvhKSOfTs",
        "colab_type": "text"
      },
      "source": [
        "## Setting Up on Colab\n",
        "\n",
        "You only need to run this on Colab."
      ]
    },
    {
      "cell_type": "code",
      "metadata": {
        "id": "55gGnjJuN1N4",
        "colab_type": "code",
        "outputId": "7310d5d4-a418-4150-a141-9e000d96b591",
        "colab": {
          "base_uri": "https://localhost:8080/",
          "height": 34
        }
      },
      "source": [
        "!pip install fastai2 > /dev/null 2>&1\n",
        "!git clone https://github.com/arunoda/fastai-v4 > /dev/null 2>&1\n",
        "%cd fastai-v4"
      ],
      "execution_count": 1,
      "outputs": [
        {
          "output_type": "stream",
          "text": [
            "/content/fastai-v4\n"
          ],
          "name": "stdout"
        }
      ]
    },
    {
      "cell_type": "code",
      "metadata": {
        "id": "mfd08N4aOA4L",
        "colab_type": "code",
        "colab": {}
      },
      "source": [
        "from fastai2.collab import *\n",
        "from fastai2.tabular.all import *"
      ],
      "execution_count": 0,
      "outputs": []
    },
    {
      "cell_type": "markdown",
      "metadata": {
        "id": "3CWCok_zOSHR",
        "colab_type": "text"
      },
      "source": [
        "## **Loading the Dataset**\n",
        "\n",
        "Here we are going to use a Mini dataset from Movie Lens."
      ]
    },
    {
      "cell_type": "code",
      "metadata": {
        "id": "lXURwBAi-2gk",
        "colab_type": "code",
        "outputId": "d9d31dba-db6f-48b9-b997-85355662238f",
        "colab": {
          "base_uri": "https://localhost:8080/",
          "height": 17
        }
      },
      "source": [
        "data_path = untar_data(URLs.ML_100k)"
      ],
      "execution_count": 3,
      "outputs": [
        {
          "output_type": "display_data",
          "data": {
            "text/html": [
              ""
            ],
            "text/plain": [
              "<IPython.core.display.HTML object>"
            ]
          },
          "metadata": {
            "tags": []
          }
        }
      ]
    },
    {
      "cell_type": "code",
      "metadata": {
        "id": "FyYBAb6n--6d",
        "colab_type": "code",
        "outputId": "30af3952-d0ca-4025-d6fe-cdbc05416f4a",
        "colab": {
          "base_uri": "https://localhost:8080/",
          "height": 459
        }
      },
      "source": [
        "!ls -all {data_path}"
      ],
      "execution_count": 4,
      "outputs": [
        {
          "output_type": "stream",
          "text": [
            "total 15784\n",
            "drwxr-xr-x 2 root root    4096 May 29 15:37 .\n",
            "drwxr-xr-x 3 root root    4096 May 29 15:37 ..\n",
            "-rw-r--r-- 1 root root     716 May 29 15:37 allbut.pl\n",
            "-rw-r--r-- 1 root root     643 May 29 15:37 mku.sh\n",
            "-rw-r--r-- 1 root root    6750 May 29 15:37 README\n",
            "-rw-r--r-- 1 root root 1586544 May 29 15:37 u1.base\n",
            "-rw-r--r-- 1 root root  392629 May 29 15:37 u1.test\n",
            "-rw-r--r-- 1 root root 1583948 May 29 15:37 u2.base\n",
            "-rw-r--r-- 1 root root  395225 May 29 15:37 u2.test\n",
            "-rw-r--r-- 1 root root 1582546 May 29 15:37 u3.base\n",
            "-rw-r--r-- 1 root root  396627 May 29 15:37 u3.test\n",
            "-rw-r--r-- 1 root root 1581878 May 29 15:37 u4.base\n",
            "-rw-r--r-- 1 root root  397295 May 29 15:37 u4.test\n",
            "-rw-r--r-- 1 root root 1581776 May 29 15:37 u5.base\n",
            "-rw-r--r-- 1 root root  397397 May 29 15:37 u5.test\n",
            "-rw-r--r-- 1 root root 1792501 May 29 15:37 ua.base\n",
            "-rw-r--r-- 1 root root  186672 May 29 15:37 ua.test\n",
            "-rw-r--r-- 1 root root 1792476 May 29 15:37 ub.base\n",
            "-rw-r--r-- 1 root root  186697 May 29 15:37 ub.test\n",
            "-rw-r--r-- 1 root root 1979173 May 29 15:37 u.data\n",
            "-rw-r--r-- 1 root root     202 May 29 15:37 u.genre\n",
            "-rw-r--r-- 1 root root      36 May 29 15:37 u.info\n",
            "-rw-r--r-- 1 root root  236344 May 29 15:37 u.item\n",
            "-rw-r--r-- 1 root root     193 May 29 15:37 u.occupation\n",
            "-rw-r--r-- 1 root root   22628 May 29 15:37 u.user\n"
          ],
          "name": "stdout"
        }
      ]
    },
    {
      "cell_type": "code",
      "metadata": {
        "id": "xqP1dFgh_AtW",
        "colab_type": "code",
        "outputId": "91a6fd7a-8b4f-4c0b-c6e5-2b76009cbf75",
        "colab": {
          "base_uri": "https://localhost:8080/",
          "height": 187
        }
      },
      "source": [
        "!head {data_path/\"u.data\"}"
      ],
      "execution_count": 5,
      "outputs": [
        {
          "output_type": "stream",
          "text": [
            "196\t242\t3\t881250949\n",
            "186\t302\t3\t891717742\n",
            "22\t377\t1\t878887116\n",
            "244\t51\t2\t880606923\n",
            "166\t346\t1\t886397596\n",
            "298\t474\t4\t884182806\n",
            "115\t265\t2\t881171488\n",
            "253\t465\t5\t891628467\n",
            "305\t451\t3\t886324817\n",
            "6\t86\t3\t883603013\n"
          ],
          "name": "stdout"
        }
      ]
    },
    {
      "cell_type": "markdown",
      "metadata": {
        "id": "yDnZ3BvB_UcM",
        "colab_type": "text"
      },
      "source": [
        "This is the file we want. Here are those fields:\n",
        "\n",
        "```\n",
        "user, movie, rating, timestamp\n",
        "```"
      ]
    },
    {
      "cell_type": "code",
      "metadata": {
        "id": "K96tiRsv_fHs",
        "colab_type": "code",
        "colab": {}
      },
      "source": [
        "df_ml = pd.read_csv(data_path/\"u.data\", delimiter = \"\\t\", header=None, names=[\"user\", \"movie\", \"rating\", \"timestamp\"])\n"
      ],
      "execution_count": 0,
      "outputs": []
    },
    {
      "cell_type": "code",
      "metadata": {
        "id": "oy6oX49-APVb",
        "colab_type": "code",
        "outputId": "d2d5d5a9-e94f-4f7a-e3b7-976fbd51a785",
        "colab": {
          "base_uri": "https://localhost:8080/",
          "height": 204
        }
      },
      "source": [
        "df_ml.head()"
      ],
      "execution_count": 7,
      "outputs": [
        {
          "output_type": "execute_result",
          "data": {
            "text/html": [
              "<div>\n",
              "<style scoped>\n",
              "    .dataframe tbody tr th:only-of-type {\n",
              "        vertical-align: middle;\n",
              "    }\n",
              "\n",
              "    .dataframe tbody tr th {\n",
              "        vertical-align: top;\n",
              "    }\n",
              "\n",
              "    .dataframe thead th {\n",
              "        text-align: right;\n",
              "    }\n",
              "</style>\n",
              "<table border=\"1\" class=\"dataframe\">\n",
              "  <thead>\n",
              "    <tr style=\"text-align: right;\">\n",
              "      <th></th>\n",
              "      <th>user</th>\n",
              "      <th>movie</th>\n",
              "      <th>rating</th>\n",
              "      <th>timestamp</th>\n",
              "    </tr>\n",
              "  </thead>\n",
              "  <tbody>\n",
              "    <tr>\n",
              "      <th>0</th>\n",
              "      <td>196</td>\n",
              "      <td>242</td>\n",
              "      <td>3</td>\n",
              "      <td>881250949</td>\n",
              "    </tr>\n",
              "    <tr>\n",
              "      <th>1</th>\n",
              "      <td>186</td>\n",
              "      <td>302</td>\n",
              "      <td>3</td>\n",
              "      <td>891717742</td>\n",
              "    </tr>\n",
              "    <tr>\n",
              "      <th>2</th>\n",
              "      <td>22</td>\n",
              "      <td>377</td>\n",
              "      <td>1</td>\n",
              "      <td>878887116</td>\n",
              "    </tr>\n",
              "    <tr>\n",
              "      <th>3</th>\n",
              "      <td>244</td>\n",
              "      <td>51</td>\n",
              "      <td>2</td>\n",
              "      <td>880606923</td>\n",
              "    </tr>\n",
              "    <tr>\n",
              "      <th>4</th>\n",
              "      <td>166</td>\n",
              "      <td>346</td>\n",
              "      <td>1</td>\n",
              "      <td>886397596</td>\n",
              "    </tr>\n",
              "  </tbody>\n",
              "</table>\n",
              "</div>"
            ],
            "text/plain": [
              "   user  movie  rating  timestamp\n",
              "0   196    242       3  881250949\n",
              "1   186    302       3  891717742\n",
              "2    22    377       1  878887116\n",
              "3   244     51       2  880606923\n",
              "4   166    346       1  886397596"
            ]
          },
          "metadata": {
            "tags": []
          },
          "execution_count": 7
        }
      ]
    },
    {
      "cell_type": "code",
      "metadata": {
        "id": "X8DepIGMAVpU",
        "colab_type": "code",
        "colab": {}
      },
      "source": [
        "dls = CollabDataLoaders.from_df(df_ml, bs=5)"
      ],
      "execution_count": 0,
      "outputs": []
    },
    {
      "cell_type": "code",
      "metadata": {
        "id": "NHaDncbhBRbU",
        "colab_type": "code",
        "outputId": "b0c857cf-d633-4da9-ccc1-737edb57957c",
        "colab": {
          "base_uri": "https://localhost:8080/",
          "height": 51
        }
      },
      "source": [
        "dls.classes"
      ],
      "execution_count": 9,
      "outputs": [
        {
          "output_type": "execute_result",
          "data": {
            "text/plain": [
              "{'movie': (#1657) ['#na#',1,2,3,4,5,6,7,8,9...],\n",
              " 'user': (#944) ['#na#',1,2,3,4,5,6,7,8,9...]}"
            ]
          },
          "metadata": {
            "tags": []
          },
          "execution_count": 9
        }
      ]
    },
    {
      "cell_type": "code",
      "metadata": {
        "id": "Ax3Tp9rUApWF",
        "colab_type": "code",
        "colab": {}
      },
      "source": [
        "x, y = dls.one_batch()"
      ],
      "execution_count": 0,
      "outputs": []
    },
    {
      "cell_type": "code",
      "metadata": {
        "id": "LZ2KlkbEArEE",
        "colab_type": "code",
        "outputId": "c982095f-b307-4f75-8fa7-e4c01b015d45",
        "colab": {
          "base_uri": "https://localhost:8080/",
          "height": 102
        }
      },
      "source": [
        "x"
      ],
      "execution_count": 11,
      "outputs": [
        {
          "output_type": "execute_result",
          "data": {
            "text/plain": [
              "tensor([[536, 698],\n",
              "        [307,  99],\n",
              "        [654,   3],\n",
              "        [504, 179],\n",
              "        [125, 372]], device='cuda:0')"
            ]
          },
          "metadata": {
            "tags": []
          },
          "execution_count": 11
        }
      ]
    },
    {
      "cell_type": "code",
      "metadata": {
        "id": "sIq3DsbTBA25",
        "colab_type": "code",
        "outputId": "3d5a661a-91cb-4365-ec87-1ebd0e20cf17",
        "colab": {
          "base_uri": "https://localhost:8080/",
          "height": 102
        }
      },
      "source": [
        "y"
      ],
      "execution_count": 12,
      "outputs": [
        {
          "output_type": "execute_result",
          "data": {
            "text/plain": [
              "tensor([[3],\n",
              "        [4],\n",
              "        [3],\n",
              "        [1],\n",
              "        [1]], device='cuda:0')"
            ]
          },
          "metadata": {
            "tags": []
          },
          "execution_count": 12
        }
      ]
    },
    {
      "cell_type": "markdown",
      "metadata": {
        "id": "r2NO_grCBCXi",
        "colab_type": "text"
      },
      "source": [
        "So. Based on above data, first col is user and second is movies. `y` containes the result.\n",
        "\n",
        "For example: **user `49` gave `3` points for movie `581`.**\n",
        "\n"
      ]
    },
    {
      "cell_type": "markdown",
      "metadata": {
        "id": "f3n9FOv-Bq1m",
        "colab_type": "text"
      },
      "source": [
        "## **Idea of Colab Filtering**\n",
        "\n",
        "For now, let's give each movies a 2 factors and 2 factors for each user. So, it'll look like this:"
      ]
    },
    {
      "cell_type": "code",
      "metadata": {
        "id": "RXwArdl5B5vw",
        "colab_type": "code",
        "colab": {}
      },
      "source": [
        "user_factors = torch.randn((len(dls.classes['user']), 2), requires_grad=True)\n",
        "movie_factors = torch.randn((len(dls.classes['movie']), 2), requires_grad=True)"
      ],
      "execution_count": 0,
      "outputs": []
    },
    {
      "cell_type": "markdown",
      "metadata": {
        "id": "iJKY53N3C3rs",
        "colab_type": "text"
      },
      "source": [
        "Let's pick the factors for `49` th user and `581` movie."
      ]
    },
    {
      "cell_type": "code",
      "metadata": {
        "id": "HBECewjGDKFZ",
        "colab_type": "code",
        "outputId": "644a653d-8318-453d-ec66-9495e0dc04c6",
        "colab": {
          "base_uri": "https://localhost:8080/",
          "height": 34
        }
      },
      "source": [
        "user_factors[49], movie_factors[581]"
      ],
      "execution_count": 14,
      "outputs": [
        {
          "output_type": "execute_result",
          "data": {
            "text/plain": [
              "(tensor([-0.6954,  0.6502]), tensor([0.3967, 0.9922]))"
            ]
          },
          "metadata": {
            "tags": []
          },
          "execution_count": 14
        }
      ]
    },
    {
      "cell_type": "markdown",
      "metadata": {
        "id": "p-GjJti8Djdd",
        "colab_type": "text"
      },
      "source": [
        "Let's create single number from these."
      ]
    },
    {
      "cell_type": "code",
      "metadata": {
        "id": "X2UEtdtzDo7b",
        "colab_type": "code",
        "outputId": "249d689d-5aab-40d1-d0f4-56178fc13e21",
        "colab": {
          "base_uri": "https://localhost:8080/",
          "height": 34
        }
      },
      "source": [
        "(user_factors[49] * movie_factors[581]).sum()"
      ],
      "execution_count": 15,
      "outputs": [
        {
          "output_type": "execute_result",
          "data": {
            "text/plain": [
              "tensor(0.3693)"
            ]
          },
          "metadata": {
            "tags": []
          },
          "execution_count": 15
        }
      ]
    },
    {
      "cell_type": "markdown",
      "metadata": {
        "id": "0Iqj_5ylDuF2",
        "colab_type": "text"
      },
      "source": [
        "But, let's make sure we are within the 0-5 range."
      ]
    },
    {
      "cell_type": "code",
      "metadata": {
        "id": "WCPA-8p_EA_1",
        "colab_type": "code",
        "colab": {}
      },
      "source": [
        "pred_value = sigmoid_range((user_factors[49] * movie_factors[581]).sum(), 0, 5.1)"
      ],
      "execution_count": 0,
      "outputs": []
    },
    {
      "cell_type": "markdown",
      "metadata": {
        "id": "eJS0QzTREGcx",
        "colab_type": "text"
      },
      "source": [
        "Now we need to compare that with the actual value."
      ]
    },
    {
      "cell_type": "code",
      "metadata": {
        "id": "YhS42BpdEuGT",
        "colab_type": "code",
        "outputId": "0183e9c8-385f-409e-ed16-642f3cb2f1bc",
        "colab": {
          "base_uri": "https://localhost:8080/",
          "height": 34
        }
      },
      "source": [
        "(y[0][0] - pred_value).abs()"
      ],
      "execution_count": 17,
      "outputs": [
        {
          "output_type": "execute_result",
          "data": {
            "text/plain": [
              "tensor(0.0155, device='cuda:0')"
            ]
          },
          "metadata": {
            "tags": []
          },
          "execution_count": 17
        }
      ]
    },
    {
      "cell_type": "markdown",
      "metadata": {
        "id": "yoY1-YcoEwZx",
        "colab_type": "text"
      },
      "source": [
        "**That's it. Now we need to get a gradient out of this and update factors**"
      ]
    },
    {
      "cell_type": "markdown",
      "metadata": {
        "id": "6qgjhyPiFHaS",
        "colab_type": "text"
      },
      "source": [
        "## **Doing this for a Batch**\n",
        "\n",
        "Let's try to do this for our whole mini-batch\n"
      ]
    },
    {
      "cell_type": "code",
      "metadata": {
        "id": "GCWMOJY3FPRB",
        "colab_type": "code",
        "outputId": "a61f72a4-207b-41ca-ea7e-ae98d3fd682f",
        "colab": {
          "base_uri": "https://localhost:8080/",
          "height": 102
        }
      },
      "source": [
        "x"
      ],
      "execution_count": 18,
      "outputs": [
        {
          "output_type": "execute_result",
          "data": {
            "text/plain": [
              "tensor([[536, 698],\n",
              "        [307,  99],\n",
              "        [654,   3],\n",
              "        [504, 179],\n",
              "        [125, 372]], device='cuda:0')"
            ]
          },
          "metadata": {
            "tags": []
          },
          "execution_count": 18
        }
      ]
    },
    {
      "cell_type": "code",
      "metadata": {
        "id": "WXXxWcRuFz4X",
        "colab_type": "code",
        "colab": {
          "base_uri": "https://localhost:8080/",
          "height": 136
        },
        "outputId": "b1e100f6-714b-4b6b-9265-2da808330ab4"
      },
      "source": [
        "user_factors"
      ],
      "execution_count": 19,
      "outputs": [
        {
          "output_type": "execute_result",
          "data": {
            "text/plain": [
              "tensor([[ 0.6531, -0.0616],\n",
              "        [ 0.9453, -0.5028],\n",
              "        [ 0.1189, -0.3562],\n",
              "        ...,\n",
              "        [-1.3274, -0.2172],\n",
              "        [-1.5928, -1.0457],\n",
              "        [ 1.4170, -0.0804]])"
            ]
          },
          "metadata": {
            "tags": []
          },
          "execution_count": 19
        }
      ]
    },
    {
      "cell_type": "markdown",
      "metadata": {
        "id": "0s_pWpwkHDFE",
        "colab_type": "text"
      },
      "source": [
        "Basically, we need to pick users in `x` from `user_factors`. But if we do that, it's not a operation which can do gradients. That's where one hot encoding comes to play. So, let's do it."
      ]
    },
    {
      "cell_type": "code",
      "metadata": {
        "id": "ozD2OJMsHUNz",
        "colab_type": "code",
        "colab": {
          "base_uri": "https://localhost:8080/",
          "height": 34
        },
        "outputId": "0743b676-3fa5-431c-bfe9-d9527e4e2829"
      },
      "source": [
        "one_hot([1], 10)"
      ],
      "execution_count": 32,
      "outputs": [
        {
          "output_type": "execute_result",
          "data": {
            "text/plain": [
              "tensor([0, 1, 0, 0, 0, 0, 0, 0, 0, 0], dtype=torch.uint8)"
            ]
          },
          "metadata": {
            "tags": []
          },
          "execution_count": 32
        }
      ]
    },
    {
      "cell_type": "code",
      "metadata": {
        "id": "Ua-8fVKPHfPk",
        "colab_type": "code",
        "colab": {}
      },
      "source": [
        "one_hot_i = one_hot(536, len(user_factors)).float()"
      ],
      "execution_count": 0,
      "outputs": []
    },
    {
      "cell_type": "code",
      "metadata": {
        "id": "vqdpirePHuuu",
        "colab_type": "code",
        "colab": {
          "base_uri": "https://localhost:8080/",
          "height": 34
        },
        "outputId": "ccb4fdf9-a2ad-4044-f6fc-3a7097addc41"
      },
      "source": [
        "one_hot_i.shape, user_factors.shape"
      ],
      "execution_count": 37,
      "outputs": [
        {
          "output_type": "execute_result",
          "data": {
            "text/plain": [
              "(torch.Size([944]), torch.Size([944, 2]))"
            ]
          },
          "metadata": {
            "tags": []
          },
          "execution_count": 37
        }
      ]
    },
    {
      "cell_type": "code",
      "metadata": {
        "id": "XvfO_1WMJAnI",
        "colab_type": "code",
        "colab": {
          "base_uri": "https://localhost:8080/",
          "height": 34
        },
        "outputId": "2bc92836-64cd-430b-d6b3-1bedfe7d232a"
      },
      "source": [
        "one_hot_i @ user_factors"
      ],
      "execution_count": 38,
      "outputs": [
        {
          "output_type": "execute_result",
          "data": {
            "text/plain": [
              "tensor([-0.2978, -1.0514])"
            ]
          },
          "metadata": {
            "tags": []
          },
          "execution_count": 38
        }
      ]
    },
    {
      "cell_type": "markdown",
      "metadata": {
        "id": "-L48r7QDJMVC",
        "colab_type": "text"
      },
      "source": [
        "**See. That's supported with gradient calculation.**\n",
        "\n",
        "Now let's do it for the whole batch\n"
      ]
    },
    {
      "cell_type": "code",
      "metadata": {
        "id": "DOw2NNGUJbBy",
        "colab_type": "code",
        "colab": {
          "base_uri": "https://localhost:8080/",
          "height": 34
        },
        "outputId": "ed7bbeac-b696-4294-b407-abfb617ca16f"
      },
      "source": [
        "one_hot_users = torch.stack([one_hot(i, len(user_factors)) for i in x[:, 0]]).float()\n",
        "one_hot_users.shape"
      ],
      "execution_count": 51,
      "outputs": [
        {
          "output_type": "execute_result",
          "data": {
            "text/plain": [
              "torch.Size([5, 944])"
            ]
          },
          "metadata": {
            "tags": []
          },
          "execution_count": 51
        }
      ]
    },
    {
      "cell_type": "code",
      "metadata": {
        "id": "cIuRS2EGKZSw",
        "colab_type": "code",
        "colab": {
          "base_uri": "https://localhost:8080/",
          "height": 34
        },
        "outputId": "66ec2618-6284-44c5-c157-bc258b1bb842"
      },
      "source": [
        "one_hot_movies = torch.stack([one_hot(i, len(movie_factors)) for i in x[:, 1]]).float()\n",
        "one_hot_movies.shape"
      ],
      "execution_count": 52,
      "outputs": [
        {
          "output_type": "execute_result",
          "data": {
            "text/plain": [
              "torch.Size([5, 1657])"
            ]
          },
          "metadata": {
            "tags": []
          },
          "execution_count": 52
        }
      ]
    },
    {
      "cell_type": "code",
      "metadata": {
        "id": "fk_5_czvLDHn",
        "colab_type": "code",
        "colab": {
          "base_uri": "https://localhost:8080/",
          "height": 102
        },
        "outputId": "7dda6370-a4c6-4e01-8f28-b5ef5e66c320"
      },
      "source": [
        "picked_user_factors = one_hot_users @ user_factors\n",
        "picked_user_factors"
      ],
      "execution_count": 83,
      "outputs": [
        {
          "output_type": "execute_result",
          "data": {
            "text/plain": [
              "tensor([[-0.4655, -1.4049],\n",
              "        [ 2.4640, -2.3262],\n",
              "        [-0.9884, -0.9596],\n",
              "        [-1.1680, -0.6322],\n",
              "        [-0.3300,  1.1854]], grad_fn=<MmBackward>)"
            ]
          },
          "metadata": {
            "tags": []
          },
          "execution_count": 83
        }
      ]
    },
    {
      "cell_type": "code",
      "metadata": {
        "id": "DU5yHSjoLL2F",
        "colab_type": "code",
        "colab": {
          "base_uri": "https://localhost:8080/",
          "height": 102
        },
        "outputId": "e64cea10-e66f-4228-e348-cf970e3ff99e"
      },
      "source": [
        "picked_movie_factors = one_hot_movies @ movie_factors\n",
        "picked_movie_factors"
      ],
      "execution_count": 84,
      "outputs": [
        {
          "output_type": "execute_result",
          "data": {
            "text/plain": [
              "tensor([[-1.3993, -0.9144],\n",
              "        [ 0.5534,  0.4997],\n",
              "        [ 0.4733,  0.0558],\n",
              "        [ 0.4869,  1.9532],\n",
              "        [ 1.1472, -0.7067]], grad_fn=<MmBackward>)"
            ]
          },
          "metadata": {
            "tags": []
          },
          "execution_count": 84
        }
      ]
    },
    {
      "cell_type": "code",
      "metadata": {
        "id": "C5HoioXELYUR",
        "colab_type": "code",
        "colab": {
          "base_uri": "https://localhost:8080/",
          "height": 34
        },
        "outputId": "7be6cb59-e4a1-4d66-c6d7-576e7e194cc5"
      },
      "source": [
        "score_preds = sigmoid_range((picked_user_factors * picked_movie_factors).sum(dim=1), 0, 5.1)\n",
        "score_preds"
      ],
      "execution_count": 85,
      "outputs": [
        {
          "output_type": "execute_result",
          "data": {
            "text/plain": [
              "tensor([4.4570, 2.8057, 1.8999, 0.7212, 1.1657], grad_fn=<AddBackward0>)"
            ]
          },
          "metadata": {
            "tags": []
          },
          "execution_count": 85
        }
      ]
    },
    {
      "cell_type": "code",
      "metadata": {
        "id": "ueGplKzpLkKO",
        "colab_type": "code",
        "colab": {
          "base_uri": "https://localhost:8080/",
          "height": 34
        },
        "outputId": "b0b103d4-ce7a-4e35-bd94-d82ed0aae5f3"
      },
      "source": [
        "loss = (score_preds - y.cpu()[:, 0]).abs().sum()\n",
        "loss"
      ],
      "execution_count": 86,
      "outputs": [
        {
          "output_type": "execute_result",
          "data": {
            "text/plain": [
              "tensor(4.1959, grad_fn=<SumBackward0>)"
            ]
          },
          "metadata": {
            "tags": []
          },
          "execution_count": 86
        }
      ]
    },
    {
      "cell_type": "code",
      "metadata": {
        "id": "867P-iQUMN67",
        "colab_type": "code",
        "colab": {}
      },
      "source": [
        "loss.backward()"
      ],
      "execution_count": 0,
      "outputs": []
    },
    {
      "cell_type": "code",
      "metadata": {
        "id": "29PA4Gm5Oalu",
        "colab_type": "code",
        "colab": {
          "base_uri": "https://localhost:8080/",
          "height": 34
        },
        "outputId": "90b3a2c1-b392-4ba1-f592-c8a2dda738f7"
      },
      "source": [
        "movie_factors.grad.sum(), user_factors.grad.sum()"
      ],
      "execution_count": 96,
      "outputs": [
        {
          "output_type": "execute_result",
          "data": {
            "text/plain": [
              "(tensor(2.9811), tensor(-4.3750))"
            ]
          },
          "metadata": {
            "tags": []
          },
          "execution_count": 96
        }
      ]
    },
    {
      "cell_type": "markdown",
      "metadata": {
        "id": "voHIaS86OfrF",
        "colab_type": "text"
      },
      "source": [
        "**Above grad some has no meaning. I just wanted show that, getting gradient is possible.**\n"
      ]
    },
    {
      "cell_type": "code",
      "metadata": {
        "id": "q86JMVw9O8ON",
        "colab_type": "code",
        "colab": {}
      },
      "source": [
        ""
      ],
      "execution_count": 0,
      "outputs": []
    }
  ]
}