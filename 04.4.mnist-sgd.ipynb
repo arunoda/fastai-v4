{
 "cells": [
  {
   "cell_type": "markdown",
   "metadata": {},
   "source": [
    "# MNIST SGD"
   ]
  },
  {
   "cell_type": "code",
   "execution_count": 1,
   "metadata": {},
   "outputs": [],
   "source": [
    "from fastai2.vision.all import *\n",
    "from utils import *\n",
    "matplotlib.rc('image', cmap='Blues')"
   ]
  },
  {
   "cell_type": "markdown",
   "metadata": {},
   "source": [
    "## Load Images"
   ]
  },
  {
   "cell_type": "code",
   "execution_count": 2,
   "metadata": {},
   "outputs": [],
   "source": [
    "im_path = untar_data(URLs.MNIST)"
   ]
  },
  {
   "cell_type": "code",
   "execution_count": 3,
   "metadata": {},
   "outputs": [
    {
     "data": {
      "text/plain": [
       "(#2) [Path('/storage/data/mnist_png/training'),Path('/storage/data/mnist_png/testing')]"
      ]
     },
     "execution_count": 3,
     "metadata": {},
     "output_type": "execute_result"
    }
   ],
   "source": [
    "im_path.ls()"
   ]
  },
  {
   "cell_type": "code",
   "execution_count": 4,
   "metadata": {},
   "outputs": [
    {
     "data": {
      "text/plain": [
       "(#10) [Path('/storage/data/mnist_png/training/0'),Path('/storage/data/mnist_png/training/2'),Path('/storage/data/mnist_png/training/9'),Path('/storage/data/mnist_png/training/8'),Path('/storage/data/mnist_png/training/7'),Path('/storage/data/mnist_png/training/1'),Path('/storage/data/mnist_png/training/5'),Path('/storage/data/mnist_png/training/4'),Path('/storage/data/mnist_png/training/6'),Path('/storage/data/mnist_png/training/3')]"
      ]
     },
     "execution_count": 4,
     "metadata": {},
     "output_type": "execute_result"
    }
   ],
   "source": [
    "(im_path/\"training\").ls()"
   ]
  },
  {
   "cell_type": "code",
   "execution_count": 5,
   "metadata": {},
   "outputs": [
    {
     "data": {
      "text/plain": [
       "(#6131) [Path('/storage/data/mnist_png/training/3/26208.png'),Path('/storage/data/mnist_png/training/3/12882.png'),Path('/storage/data/mnist_png/training/3/58219.png'),Path('/storage/data/mnist_png/training/3/13242.png'),Path('/storage/data/mnist_png/training/3/53225.png'),Path('/storage/data/mnist_png/training/3/51947.png'),Path('/storage/data/mnist_png/training/3/57974.png'),Path('/storage/data/mnist_png/training/3/9812.png'),Path('/storage/data/mnist_png/training/3/6658.png'),Path('/storage/data/mnist_png/training/3/11285.png')...]"
      ]
     },
     "execution_count": 5,
     "metadata": {},
     "output_type": "execute_result"
    }
   ],
   "source": [
    "(im_path/\"training\"/\"3\").ls()"
   ]
  },
  {
   "cell_type": "code",
   "execution_count": 6,
   "metadata": {},
   "outputs": [],
   "source": [
    "def load_images(p):\n",
    "    return torch.stack([tensor(Image.open(im)).float()/255 for im in p.ls()])"
   ]
  },
  {
   "cell_type": "code",
   "execution_count": 7,
   "metadata": {},
   "outputs": [
    {
     "data": {
      "text/plain": [
       "(torch.Size([6131, 28, 28]), torch.Size([5851, 28, 28]))"
      ]
     },
     "execution_count": 7,
     "metadata": {},
     "output_type": "execute_result"
    }
   ],
   "source": [
    "## Load training images\n",
    "train_3s = load_images(im_path/\"training\"/\"3\")\n",
    "train_8s = load_images(im_path/\"training\"/\"8\")\n",
    "train_3s.shape, train_8s.shape"
   ]
  },
  {
   "cell_type": "code",
   "execution_count": 8,
   "metadata": {},
   "outputs": [
    {
     "data": {
      "text/plain": [
       "(<matplotlib.axes._subplots.AxesSubplot at 0x7ff34379ffd0>,\n",
       " <matplotlib.axes._subplots.AxesSubplot at 0x7ff343206350>)"
      ]
     },
     "execution_count": 8,
     "metadata": {},
     "output_type": "execute_result"
    },
    {
     "data": {
      "image/png": "[encoded data removed]",
      "text/plain": [
       "<Figure size 72x72 with 1 Axes>"
      ]
     },
     "metadata": {
      "needs_background": "light"
     },
     "output_type": "display_data"
    },
    {
     "data": {
      "image/png": "[encoded data removed]",
      "text/plain": [
       "<Figure size 72x72 with 1 Axes>"
      ]
     },
     "metadata": {
      "needs_background": "light"
     },
     "output_type": "display_data"
    }
   ],
   "source": [
    "show_image(train_3s[0]), show_image(train_8s[0])"
   ]
  },
  {
   "cell_type": "code",
   "execution_count": 9,
   "metadata": {},
   "outputs": [
    {
     "data": {
      "text/plain": [
       "(torch.Size([1010, 28, 28]), torch.Size([974, 28, 28]))"
      ]
     },
     "execution_count": 9,
     "metadata": {},
     "output_type": "execute_result"
    }
   ],
   "source": [
    "## Load validation images\n",
    "valid_3s = load_images(im_path/\"testing\"/\"3\")\n",
    "valid_8s = load_images(im_path/\"testing\"/\"8\")\n",
    "valid_3s.shape, valid_8s.shape"
   ]
  },
  {
   "cell_type": "code",
   "execution_count": 10,
   "metadata": {},
   "outputs": [
    {
     "data": {
      "text/plain": [
       "(<matplotlib.axes._subplots.AxesSubplot at 0x7ff343201b10>,\n",
       " <matplotlib.axes._subplots.AxesSubplot at 0x7ff34311af90>)"
      ]
     },
     "execution_count": 10,
     "metadata": {},
     "output_type": "execute_result"
    },
    {
     "data": {
      "image/png": "[encoded data removed]",
      "text/plain": [
       "<Figure size 72x72 with 1 Axes>"
      ]
     },
     "metadata": {
      "needs_background": "light"
     },
     "output_type": "display_data"
    },
    {
     "data": {
      "image/png": "[encoded data removed]",
      "text/plain": [
       "<Figure size 72x72 with 1 Axes>"
      ]
     },
     "metadata": {
      "needs_background": "light"
     },
     "output_type": "display_data"
    }
   ],
   "source": [
    "show_image(valid_3s[0]), show_image(valid_8s[0])"
   ]
  },
  {
   "cell_type": "markdown",
   "metadata": {},
   "source": [
    "## Loss Function\n",
    "\n",
    "For the model, we use a simple function like this:\n",
    "\n",
    "```\n",
    "pred = weights * pixels + bias\n",
    "```\n",
    "\n",
    "Basically, we assign a weight for each pixel. So, we can arrange all the pixels into a single row."
   ]
  },
  {
   "cell_type": "code",
   "execution_count": 11,
   "metadata": {},
   "outputs": [
    {
     "data": {
      "text/plain": [
       "torch.Size([11982, 784])"
      ]
     },
     "execution_count": 11,
     "metadata": {},
     "output_type": "execute_result"
    }
   ],
   "source": [
    "train_x = torch.cat([train_3s, train_8s]).view(-1, 28 * 28)\n",
    "train_x.shape"
   ]
  },
  {
   "cell_type": "markdown",
   "metadata": {},
   "source": [
    "**Basically, now a single row is an image**"
   ]
  },
  {
   "cell_type": "code",
   "execution_count": 12,
   "metadata": {},
   "outputs": [
    {
     "data": {
      "text/plain": [
       "<matplotlib.axes._subplots.AxesSubplot at 0x7ff343034390>"
      ]
     },
     "execution_count": 12,
     "metadata": {},
     "output_type": "execute_result"
    },
    {
     "data": {
      "image/png": "[encoded data removed]",
      "text/plain": [
       "<Figure size 360x360 with 1 Axes>"
      ]
     },
     "metadata": {
      "needs_background": "light"
     },
     "output_type": "display_data"
    }
   ],
   "source": [
    "## How 3s looks alike\n",
    "show_image(train_x[1:500,])"
   ]
  },
  {
   "cell_type": "code",
   "execution_count": 13,
   "metadata": {},
   "outputs": [
    {
     "data": {
      "text/plain": [
       "<matplotlib.axes._subplots.AxesSubplot at 0x7ff342f176d0>"
      ]
     },
     "execution_count": 13,
     "metadata": {},
     "output_type": "execute_result"
    },
    {
     "data": {
      "image/png": "[encoded data removed]",
      "text/plain": [
       "<Figure size 360x360 with 1 Axes>"
      ]
     },
     "metadata": {
      "needs_background": "light"
     },
     "output_type": "display_data"
    }
   ],
   "source": [
    "## How 8s looks like\n",
    "show_image(train_x[-500:-1,])"
   ]
  },
  {
   "cell_type": "markdown",
   "metadata": {},
   "source": [
    "**GOAL:** Find a way to differentiate these two "
   ]
  },
  {
   "cell_type": "code",
   "execution_count": 14,
   "metadata": {},
   "outputs": [
    {
     "data": {
      "text/plain": [
       "torch.Size([11982, 1])"
      ]
     },
     "execution_count": 14,
     "metadata": {},
     "output_type": "execute_result"
    }
   ],
   "source": [
    "train_y = tensor([1] * len(train_3s) + [0] * len(train_8s)).unsqueeze(1)\n",
    "train_y.shape"
   ]
  },
  {
   "cell_type": "code",
   "execution_count": 15,
   "metadata": {},
   "outputs": [],
   "source": [
    "valid_x = torch.cat([valid_3s, valid_8s]).view(-1, 28*28)\n",
    "valid_y = tensor([1] * len(valid_3s) + [0] * len(valid_8s))"
   ]
  },
  {
   "cell_type": "code",
   "execution_count": 16,
   "metadata": {},
   "outputs": [],
   "source": [
    "def mnist_model(X, weights, bias):\n",
    "    return X@weights + bias"
   ]
  },
  {
   "cell_type": "code",
   "execution_count": 17,
   "metadata": {},
   "outputs": [],
   "source": [
    "def init_params(shape):\n",
    "    return torch.randn(shape).requires_grad_()"
   ]
  },
  {
   "cell_type": "code",
   "execution_count": 18,
   "metadata": {},
   "outputs": [],
   "source": [
    "weights = init_params((train_x.shape[1], 1))\n",
    "bias = init_params(1)        "
   ]
  },
  {
   "cell_type": "code",
   "execution_count": 19,
   "metadata": {},
   "outputs": [
    {
     "data": {
      "text/plain": [
       "torch.Size([11982, 1])"
      ]
     },
     "execution_count": 19,
     "metadata": {},
     "output_type": "execute_result"
    }
   ],
   "source": [
    "preds = mnist_model(train_x, weights, bias)\n",
    "preds.shape"
   ]
  },
  {
   "cell_type": "code",
   "execution_count": 20,
   "metadata": {},
   "outputs": [],
   "source": [
    "## Accuracy function\n",
    "# Here we are defining the model value > 0 as 3s and others and others ans 8s.\n",
    "# (This is also our loss function)\n",
    "def accuracy(preds, Y):\n",
    "    pred_trues = (preds > 0).float() == Y\n",
    "    return pred_trues.float().mean()"
   ]
  },
  {
   "cell_type": "code",
   "execution_count": 21,
   "metadata": {},
   "outputs": [
    {
     "data": {
      "text/plain": [
       "0.5599232316017151"
      ]
     },
     "execution_count": 21,
     "metadata": {},
     "output_type": "execute_result"
    }
   ],
   "source": [
    "# So, we got an accuracy of 50%\n",
    "loss = accuracy(preds, train_y)\n",
    "loss.item()"
   ]
  },
  {
   "cell_type": "code",
   "execution_count": 22,
   "metadata": {},
   "outputs": [],
   "source": [
    "# Now let's change the weights a bit\n",
    "weights[0] *= 0.001"
   ]
  },
  {
   "cell_type": "code",
   "execution_count": 23,
   "metadata": {},
   "outputs": [
    {
     "data": {
      "text/plain": [
       "0.5599232316017151"
      ]
     },
     "execution_count": 23,
     "metadata": {},
     "output_type": "execute_result"
    }
   ],
   "source": [
    "# Let's run the model again and find the loss\n",
    "preds = mnist_model(train_x, weights, bias)\n",
    "loss2 = accuracy(preds, train_y)\n",
    "loss2.item()"
   ]
  },
  {
   "cell_type": "markdown",
   "metadata": {},
   "source": [
    "**As you can see, there's no change in our loss. So, we cannot measure the improvements of our weights using a loss function like accuracy. For that, we need something else.**\n",
    "\n",
    "For that, we can use the abs mean error"
   ]
  },
  {
   "cell_type": "code",
   "execution_count": 24,
   "metadata": {},
   "outputs": [
    {
     "data": {
      "text/plain": [
       "(tensor(-36.1528, grad_fn=<MinBackward1>),\n",
       " tensor(21.0948, grad_fn=<MaxBackward1>))"
      ]
     },
     "execution_count": 24,
     "metadata": {},
     "output_type": "execute_result"
    }
   ],
   "source": [
    "## Our targets are between 0 and 1, but our preds\n",
    "torch.min(preds), torch.max(preds)"
   ]
  },
  {
   "cell_type": "code",
   "execution_count": 25,
   "metadata": {},
   "outputs": [
    {
     "data": {
      "image/png": "[encoded data removed]",
      "text/plain": [
       "<Figure size 432x288 with 1 Axes>"
      ]
     },
     "metadata": {
      "needs_background": "light"
     },
     "output_type": "display_data"
    }
   ],
   "source": [
    "## So, we need some function to transform these preds into a range of 0 and 1. Luckily we have something. Sigmoid\n",
    "plot_function(torch.sigmoid, min=torch.min(preds).item(), max=torch.max(preds).item())"
   ]
  },
  {
   "cell_type": "code",
   "execution_count": 26,
   "metadata": {},
   "outputs": [],
   "source": [
    "def mnist_loss(preds, Y):\n",
    "    return (torch.sigmoid(preds) - Y).abs().mean()"
   ]
  },
  {
   "cell_type": "code",
   "execution_count": 27,
   "metadata": {},
   "outputs": [],
   "source": [
    "weights = init_params(28*28)\n",
    "bias = init_params(1)     "
   ]
  },
  {
   "cell_type": "code",
   "execution_count": 28,
   "metadata": {},
   "outputs": [
    {
     "name": "stdout",
     "output_type": "stream",
     "text": [
      "Loss: 0.49173566699028015\n"
     ]
    }
   ],
   "source": [
    "preds = mnist_model(train_x, weights, bias)\n",
    "loss = mnist_loss(preds, train_y)\n",
    "print(f'Loss: {loss.item()}')\n",
    "loss.backward()"
   ]
  },
  {
   "cell_type": "code",
   "execution_count": 29,
   "metadata": {},
   "outputs": [],
   "source": [
    "def update_params(p, lr=1e-5):\n",
    "    p.data -= p.grad * lr\n",
    "    p.grad.zero_()"
   ]
  },
  {
   "cell_type": "code",
   "execution_count": 30,
   "metadata": {},
   "outputs": [],
   "source": [
    "update_params(weights)\n",
    "update_params(bias)"
   ]
  },
  {
   "cell_type": "code",
   "execution_count": 31,
   "metadata": {},
   "outputs": [
    {
     "name": "stdout",
     "output_type": "stream",
     "text": [
      "Loss: 0.49173566699028015\n"
     ]
    }
   ],
   "source": [
    "#run again\n",
    "preds = mnist_model(train_x, weights, bias)\n",
    "loss = mnist_loss(preds, train_y)\n",
    "print(f'Loss: {loss.item()}')"
   ]
  },
  {
   "cell_type": "markdown",
   "metadata": {},
   "source": [
    "**See. It's getting smaller.**\n",
    "\n",
    "Let's put all those together.\n",
    "\n",
    "## Using GD"
   ]
  },
  {
   "cell_type": "code",
   "execution_count": 32,
   "metadata": {},
   "outputs": [],
   "source": [
    "def find_accuracy(X, Y):\n",
    "    W = weights.data.clone();\n",
    "    B = bias.data.clone();\n",
    "    P = mnist_model(X, W, B)\n",
    "    return ((torch.sigmoid(P) > 0.5) == Y).float().mean()"
   ]
  },
  {
   "cell_type": "code",
   "execution_count": 33,
   "metadata": {},
   "outputs": [],
   "source": [
    "weights = init_params(28*28)\n",
    "bias = init_params(1)"
   ]
  },
  {
   "cell_type": "code",
   "execution_count": 34,
   "metadata": {},
   "outputs": [],
   "source": [
    "def run_epoch(lr=1.):\n",
    "    preds = mnist_model(train_x, weights, bias)\n",
    "    loss = mnist_loss(preds, train_y)\n",
    "    loss.backward()\n",
    "    update_params(weights, lr)\n",
    "    update_params(bias, lr)\n",
    "    \n",
    "    print('ACC:', find_accuracy(valid_x, valid_y))"
   ]
  },
  {
   "cell_type": "code",
   "execution_count": 35,
   "metadata": {},
   "outputs": [
    {
     "name": "stdout",
     "output_type": "stream",
     "text": [
      "ACC: tensor(0.4884)\n",
      "ACC: tensor(0.4884)\n",
      "ACC: tensor(0.4884)\n",
      "ACC: tensor(0.4879)\n",
      "ACC: tensor(0.4884)\n",
      "ACC: tensor(0.4889)\n",
      "ACC: tensor(0.4889)\n",
      "ACC: tensor(0.4894)\n",
      "ACC: tensor(0.4894)\n",
      "ACC: tensor(0.4904)\n",
      "ACC: tensor(0.4904)\n",
      "ACC: tensor(0.4909)\n",
      "ACC: tensor(0.4914)\n",
      "ACC: tensor(0.4919)\n",
      "ACC: tensor(0.4919)\n",
      "ACC: tensor(0.4914)\n",
      "ACC: tensor(0.4909)\n",
      "ACC: tensor(0.4909)\n",
      "ACC: tensor(0.4919)\n",
      "ACC: tensor(0.4919)\n",
      "ACC: tensor(0.4919)\n",
      "ACC: tensor(0.4919)\n",
      "ACC: tensor(0.4919)\n",
      "ACC: tensor(0.4924)\n",
      "ACC: tensor(0.4919)\n",
      "ACC: tensor(0.4919)\n",
      "ACC: tensor(0.4919)\n",
      "ACC: tensor(0.4924)\n",
      "ACC: tensor(0.4924)\n",
      "ACC: tensor(0.4924)\n"
     ]
    }
   ],
   "source": [
    "for i in range(30):\n",
    "    run_epoch()"
   ]
  },
  {
   "cell_type": "markdown",
   "metadata": {},
   "source": [
    "## Using SGD"
   ]
  },
  {
   "cell_type": "code",
   "execution_count": 63,
   "metadata": {},
   "outputs": [],
   "source": [
    "weights = init_params(28*28)\n",
    "bias = init_params(1)"
   ]
  },
  {
   "cell_type": "code",
   "execution_count": 64,
   "metadata": {},
   "outputs": [],
   "source": [
    "train_dset = list(zip(train_x, train_y))"
   ]
  },
  {
   "cell_type": "code",
   "execution_count": 65,
   "metadata": {},
   "outputs": [],
   "source": [
    "train_dl = DataLoader(train_dset, batch_size=256)"
   ]
  },
  {
   "cell_type": "code",
   "execution_count": 66,
   "metadata": {},
   "outputs": [
    {
     "data": {
      "text/plain": [
       "(torch.Size([256, 784]), torch.Size([256, 1]))"
      ]
     },
     "execution_count": 66,
     "metadata": {},
     "output_type": "execute_result"
    }
   ],
   "source": [
    "X, Y= first(train_dl)\n",
    "X.shape, Y.shape"
   ]
  },
  {
   "cell_type": "code",
   "execution_count": 67,
   "metadata": {},
   "outputs": [],
   "source": [
    "def run_epoch_sgd(dl, lr=1.):\n",
    "    for X, Y in dl:\n",
    "        preds = mnist_model(X, weights, bias)\n",
    "        loss = mnist_loss(preds, Y)\n",
    "        loss.backward()\n",
    "        update_params(weights, lr)\n",
    "        update_params(bias, lr)\n",
    "        \n",
    "    print('ACC', find_accuracy(valid_x, valid_y))"
   ]
  },
  {
   "cell_type": "code",
   "execution_count": 73,
   "metadata": {},
   "outputs": [
    {
     "name": "stdout",
     "output_type": "stream",
     "text": [
      "ACC tensor(0.9632)\n",
      "ACC tensor(0.9632)\n",
      "ACC tensor(0.9632)\n",
      "ACC tensor(0.9632)\n",
      "ACC tensor(0.9632)\n",
      "ACC tensor(0.9632)\n",
      "ACC tensor(0.9632)\n",
      "ACC tensor(0.9632)\n",
      "ACC tensor(0.9632)\n",
      "ACC tensor(0.9632)\n",
      "ACC tensor(0.9632)\n",
      "ACC tensor(0.9632)\n",
      "ACC tensor(0.9632)\n",
      "ACC tensor(0.9632)\n",
      "ACC tensor(0.9632)\n",
      "ACC tensor(0.9632)\n",
      "ACC tensor(0.9637)\n",
      "ACC tensor(0.9637)\n",
      "ACC tensor(0.9637)\n",
      "ACC tensor(0.9637)\n",
      "ACC tensor(0.9637)\n",
      "ACC tensor(0.9637)\n",
      "ACC tensor(0.9637)\n",
      "ACC tensor(0.9637)\n",
      "ACC tensor(0.9637)\n",
      "ACC tensor(0.9637)\n",
      "ACC tensor(0.9637)\n",
      "ACC tensor(0.9637)\n",
      "ACC tensor(0.9637)\n",
      "ACC tensor(0.9637)\n"
     ]
    }
   ],
   "source": [
    "for i in range(30):\n",
    "    run_epoch_sgd(train_dl, 0.5)"
   ]
  },
  {
   "cell_type": "markdown",
   "metadata": {},
   "source": [
    "## Using Optimizer + Models\n",
    "\n",
    "\n",
    "FastAI and PyTorch comes with a lot of techniques + tools. We can reuse some of those."
   ]
  },
  {
   "cell_type": "code",
   "execution_count": 48,
   "metadata": {},
   "outputs": [
    {
     "data": {
      "text/plain": [
       "Linear(in_features=784, out_features=1, bias=True)"
      ]
     },
     "execution_count": 48,
     "metadata": {},
     "output_type": "execute_result"
    }
   ],
   "source": [
    "model = nn.Linear(28 * 28, 1)\n",
    "model"
   ]
  },
  {
   "cell_type": "code",
   "execution_count": 49,
   "metadata": {},
   "outputs": [
    {
     "data": {
      "text/plain": [
       "(torch.Size([1, 784]), torch.Size([1]))"
      ]
     },
     "execution_count": 49,
     "metadata": {},
     "output_type": "execute_result"
    }
   ],
   "source": [
    "W, B = model.parameters()\n",
    "W.shape, B.shape"
   ]
  },
  {
   "cell_type": "code",
   "execution_count": 50,
   "metadata": {},
   "outputs": [],
   "source": [
    "# Create an optimize to update params\n",
    "class MyOptim:\n",
    "    def __init__(self, params, lr):\n",
    "        self.params = list(params)\n",
    "        self.lr = lr\n",
    "        \n",
    "    def step(self):\n",
    "        for p in self.params:\n",
    "            p.data -= p.grad * self.lr\n",
    "            \n",
    "    def zero_grad(self):\n",
    "        for p in self.params:\n",
    "            p.grad.zero_();"
   ]
  },
  {
   "cell_type": "code",
   "execution_count": 51,
   "metadata": {},
   "outputs": [],
   "source": [
    "my_opt = MyOptim(model.parameters(), 1.)"
   ]
  },
  {
   "cell_type": "code",
   "execution_count": 52,
   "metadata": {},
   "outputs": [],
   "source": [
    "## Create validation data loader\n",
    "valid_dset = list(zip(valid_x, valid_y))\n",
    "valid_dl = DataLoader(valid_dset, batch_size=225)"
   ]
  },
  {
   "cell_type": "code",
   "execution_count": 53,
   "metadata": {},
   "outputs": [],
   "source": [
    "def mnist_accuracy(preds, Y):\n",
    "    return ((torch.sigmoid(preds) > 0.5) == Y).float().mean()"
   ]
  },
  {
   "cell_type": "code",
   "execution_count": 54,
   "metadata": {},
   "outputs": [],
   "source": [
    "def get_accuracy(model, dl):\n",
    "    acc_list = tensor([mnist_accuracy(model(X), Y) for X, Y in dl])\n",
    "    return acc_list.mean()"
   ]
  },
  {
   "cell_type": "code",
   "execution_count": 55,
   "metadata": {},
   "outputs": [],
   "source": [
    "def run_epoch(model, opt):\n",
    "    for X, Y in train_dl:\n",
    "        preds = model(X)\n",
    "        loss = mnist_loss(preds, Y)\n",
    "        loss.backward();\n",
    "        opt.step();\n",
    "        opt.zero_grad();"
   ]
  },
  {
   "cell_type": "code",
   "execution_count": 56,
   "metadata": {},
   "outputs": [],
   "source": [
    "def run_model(model, epochs, lr=1.):\n",
    "    opt = MyOptim(model.parameters(), lr)\n",
    "    for i in range(epochs):\n",
    "        run_epoch(model, opt)\n",
    "        acc = get_accuracy(model, valid_dl)\n",
    "        print(f'ACC: {acc.item()}')\n",
    "#         opt.zero_grad();"
   ]
  },
  {
   "cell_type": "code",
   "execution_count": 61,
   "metadata": {},
   "outputs": [
    {
     "name": "stdout",
     "output_type": "stream",
     "text": [
      "ACC: 0.5012345910072327\n",
      "ACC: 0.5091138482093811\n",
      "ACC: 0.5923621654510498\n",
      "ACC: 0.6756323575973511\n",
      "ACC: 0.7238189578056335\n",
      "ACC: 0.7583320140838623\n",
      "ACC: 0.7824965715408325\n",
      "ACC: 0.8021948337554932\n",
      "ACC: 0.8130260705947876\n",
      "ACC: 0.8243621587753296\n",
      "ACC: 0.8322304487228394\n",
      "ACC: 0.8440603613853455\n",
      "ACC: 0.8509629368782043\n",
      "ACC: 0.8558902740478516\n",
      "ACC: 0.8603017926216125\n",
      "ACC: 0.8661947846412659\n",
      "ACC: 0.8681480884552002\n",
      "ACC: 0.8696186542510986\n",
      "ACC: 0.8715720176696777\n",
      "ACC: 0.8745349645614624\n"
     ]
    }
   ],
   "source": [
    "model = nn.Linear(28 * 28, 1)\n",
    "run_model(model, 20, lr=.5)"
   ]
  },
  {
   "cell_type": "markdown",
   "metadata": {},
   "source": [
    "**It seems like this model is not as what we defined above**<br/>\n",
    "So, let's create a custom model."
   ]
  },
  {
   "cell_type": "code",
   "execution_count": 113,
   "metadata": {},
   "outputs": [],
   "source": [
    "class MyModel(nn.Module):\n",
    "    def __init__(self, in_features, out_features=1):\n",
    "        super(MyModel, self).__init__()\n",
    "        self.weights = torch.randn((in_features, out_features)).requires_grad_()\n",
    "        self.bias = torch.randn(1).requires_grad_()\n",
    "        \n",
    "    def parameters(self):\n",
    "        return [self.weights, self.bias]\n",
    "        \n",
    "    def forward(self, X):\n",
    "        return X@self.weights + self.bias"
   ]
  },
  {
   "cell_type": "code",
   "execution_count": 114,
   "metadata": {},
   "outputs": [
    {
     "name": "stdout",
     "output_type": "stream",
     "text": [
      "ACC: 0.498745858669281\n",
      "ACC: 0.5409939289093018\n",
      "ACC: 0.5434510111808777\n",
      "ACC: 0.6120054721832275\n",
      "ACC: 0.6866495609283447\n",
      "ACC: 0.7526907324790955\n",
      "ACC: 0.7881585359573364\n",
      "ACC: 0.8093162775039673\n",
      "ACC: 0.825568675994873\n",
      "ACC: 0.837343692779541\n",
      "ACC: 0.8477141261100769\n",
      "ACC: 0.8539798259735107\n",
      "ACC: 0.8599057793617249\n",
      "ACC: 0.8661935925483704\n",
      "ACC: 0.8675649762153625\n",
      "ACC: 0.869035542011261\n",
      "ACC: 0.8749175667762756\n",
      "ACC: 0.8783524036407471\n",
      "ACC: 0.8817982077598572\n",
      "ACC: 0.8813043832778931\n",
      "ACC: 0.8826758861541748\n",
      "ACC: 0.8841354250907898\n",
      "ACC: 0.8861106634140015\n",
      "ACC: 0.8865935802459717\n",
      "ACC: 0.8870874643325806\n",
      "ACC: 0.8890736699104309\n",
      "ACC: 0.8910380601882935\n",
      "ACC: 0.8930132985115051\n",
      "ACC: 0.8940010070800781\n",
      "ACC: 0.8944947719573975\n",
      "ACC: 0.8949887156486511\n",
      "ACC: 0.8954824805259705\n",
      "ACC: 0.8959763050079346\n",
      "ACC: 0.8959763050079346\n",
      "ACC: 0.8959652781486511\n",
      "ACC: 0.8959652781486511\n",
      "ACC: 0.8964481353759766\n",
      "ACC: 0.8964481353759766\n",
      "ACC: 0.8969419002532959\n",
      "ACC: 0.8969419002532959\n"
     ]
    }
   ],
   "source": [
    "my_model = MyModel(28*28)\n",
    "run_model(my_model, 40, lr=1.)"
   ]
  },
  {
   "cell_type": "markdown",
   "metadata": {},
   "source": [
    "### It seems like our model is much better than nn.Linear\n",
    "That's strange."
   ]
  },
  {
   "cell_type": "markdown",
   "metadata": {},
   "source": [
    "## Let's Create a Nueral Network\n",
    "\n",
    "Basically here we are trying to add some non-linearity to our model."
   ]
  },
  {
   "cell_type": "code",
   "execution_count": 80,
   "metadata": {},
   "outputs": [],
   "source": [
    "class MyNNModel(nn.Module):\n",
    "    def __init__(self, n_features):\n",
    "        super(MyNNModel, self).__init__();\n",
    "        self.w1 = torch.randn((n_features, 30)).requires_grad_()\n",
    "        self.b1 = torch.randn(1).requires_grad_()\n",
    "        self.w2 = torch.randn(30).requires_grad_()\n",
    "        self.b2 = torch.randn(1).requires_grad_()\n",
    "        \n",
    "    def parameters(self):\n",
    "        return [self.w1, self.b1, self.w2, self.b2]\n",
    "    \n",
    "    def forward(self, X):\n",
    "        res = X@self.w1 + self.b1\n",
    "        res = res.max(tensor(0.))\n",
    "        res = res@self.w2 + self.b2\n",
    "        \n",
    "        return res"
   ]
  },
  {
   "cell_type": "code",
   "execution_count": 150,
   "metadata": {},
   "outputs": [
    {
     "name": "stdout",
     "output_type": "stream",
     "text": [
      "ACC: 0.603711724281311\n",
      "ACC: 0.6686312556266785\n",
      "ACC: 0.7098389863967896\n",
      "ACC: 0.7342565655708313\n",
      "ACC: 0.7602657079696655\n",
      "ACC: 0.7776596546173096\n",
      "ACC: 0.7964251041412354\n",
      "ACC: 0.8063016533851624\n",
      "ACC: 0.8171122074127197\n",
      "ACC: 0.8257273435592651\n",
      "ACC: 0.8358239531517029\n",
      "ACC: 0.8424637317657471\n",
      "ACC: 0.8493773341178894\n",
      "ACC: 0.8555233478546143\n",
      "ACC: 0.8577187657356262\n",
      "ACC: 0.861175537109375\n",
      "ACC: 0.8664975762367249\n",
      "ACC: 0.8719297051429749\n",
      "ACC: 0.8748926520347595\n",
      "ACC: 0.8772517442703247\n",
      "ACC: 0.8812023401260376\n",
      "ACC: 0.8836714625358582\n",
      "ACC: 0.8866344690322876\n",
      "ACC: 0.8866344690322876\n",
      "ACC: 0.888609766960144\n",
      "ACC: 0.8902012705802917\n",
      "ACC: 0.8916828632354736\n",
      "ACC: 0.8941519260406494\n",
      "ACC: 0.8966209888458252\n",
      "ACC: 0.8990902304649353\n",
      "ACC: 0.9010655283927917\n",
      "ACC: 0.90205317735672\n",
      "ACC: 0.9005717039108276\n",
      "ACC: 0.9025470018386841\n",
      "ACC: 0.9030407667160034\n",
      "ACC: 0.9045222401618958\n",
      "ACC: 0.9060038328170776\n",
      "ACC: 0.9084728956222534\n",
      "ACC: 0.9104481935501099\n",
      "ACC: 0.9119296669960022\n"
     ]
    }
   ],
   "source": [
    "my_nn_model = MyNNModel(28*28)\n",
    "run_model(my_nn_model, 40, lr=0.1)"
   ]
  },
  {
   "cell_type": "code",
   "execution_count": 151,
   "metadata": {},
   "outputs": [
    {
     "name": "stdout",
     "output_type": "stream",
     "text": [
      "ACC: 0.9129173755645752\n",
      "ACC: 0.9135212302207947\n",
      "ACC: 0.9136312007904053\n",
      "ACC: 0.9146189093589783\n",
      "ACC: 0.9151127338409424\n",
      "ACC: 0.9146189093589783\n",
      "ACC: 0.9151127338409424\n",
      "ACC: 0.9161003828048706\n",
      "ACC: 0.9161003828048706\n",
      "ACC: 0.9165942072868347\n"
     ]
    }
   ],
   "source": [
    "run_model(my_nn_model, 10, lr=0.1)"
   ]
  },
  {
   "cell_type": "markdown",
   "metadata": {},
   "source": [
    "**Hmm. That's not a that much of an improvment.**\n",
    "Basically, there's no improvement at all."
   ]
  },
  {
   "cell_type": "code",
   "execution_count": 120,
   "metadata": {},
   "outputs": [],
   "source": [
    "class MyRelu(nn.Module):\n",
    "    def forward(self, X):\n",
    "        return X.max(tensor(0.0))"
   ]
  },
  {
   "cell_type": "code",
   "execution_count": 175,
   "metadata": {},
   "outputs": [],
   "source": [
    "## Let's create the model in a different way\n",
    "def get_nn_model():\n",
    "    return nn.Sequential(\n",
    "        nn.Linear(28*28, 30),\n",
    "        nn.ReLU(),\n",
    "        nn.Linear(30, 1)\n",
    "    )"
   ]
  },
  {
   "cell_type": "code",
   "execution_count": 177,
   "metadata": {},
   "outputs": [
    {
     "name": "stdout",
     "output_type": "stream",
     "text": [
      "ACC: 0.691281259059906\n",
      "ACC: 0.5012345910072327\n",
      "ACC: 0.5401700735092163\n",
      "ACC: 0.6588422656059265\n",
      "ACC: 0.7282742857933044\n",
      "ACC: 0.7706007957458496\n",
      "ACC: 0.79524827003479\n",
      "ACC: 0.8140137195587158\n",
      "ACC: 0.8282908201217651\n",
      "ACC: 0.8366529941558838\n",
      "ACC: 0.8494704961776733\n",
      "ACC: 0.8583264946937561\n",
      "ACC: 0.862748920917511\n",
      "ACC: 0.8656790256500244\n",
      "ACC: 0.8686200380325317\n",
      "ACC: 0.8705734014511108\n",
      "ACC: 0.8735363483428955\n",
      "ACC: 0.8769822120666504\n",
      "ACC: 0.879451334476471\n",
      "ACC: 0.8809217810630798\n",
      "ACC: 0.8828861713409424\n",
      "ACC: 0.8838518261909485\n",
      "ACC: 0.8838518261909485\n",
      "ACC: 0.8843457102775574\n",
      "ACC: 0.8858271241188049\n",
      "ACC: 0.8873085975646973\n",
      "ACC: 0.8892619609832764\n",
      "ACC: 0.8902496695518494\n",
      "ACC: 0.89073246717453\n",
      "ACC: 0.8922140598297119\n",
      "ACC: 0.8936954140663147\n",
      "ACC: 0.8946831226348877\n",
      "ACC: 0.8956707715988159\n",
      "ACC: 0.8950669169425964\n",
      "ACC: 0.8955606818199158\n",
      "ACC: 0.8965483903884888\n",
      "ACC: 0.8970421552658081\n",
      "ACC: 0.8980298638343811\n",
      "ACC: 0.8985127210617065\n",
      "ACC: 0.8985127210617065\n"
     ]
    }
   ],
   "source": [
    "run_model(get_nn_model(), 40, lr=.1)"
   ]
  },
  {
   "cell_type": "markdown",
   "metadata": {},
   "source": [
    "## Using a Learner\n",
    "\n",
    "By doing this, we can reuse a lot of stuff coming from fastai."
   ]
  },
  {
   "cell_type": "code",
   "execution_count": 164,
   "metadata": {},
   "outputs": [],
   "source": [
    "## Add both dataloaders together\n",
    "dls = DataLoaders(train_dl, valid_dl)"
   ]
  },
  {
   "cell_type": "code",
   "execution_count": 168,
   "metadata": {},
   "outputs": [],
   "source": [
    "## Let's create the leaerner\n",
    "learn = Learner(dls, MyModel(28*28, 1), opt_func=SGD, loss_func=mnist_loss, metrics=mnist_accuracy)"
   ]
  },
  {
   "cell_type": "code",
   "execution_count": 169,
   "metadata": {},
   "outputs": [
    {
     "data": {
      "text/html": [
       "<table border=\"1\" class=\"dataframe\">\n",
       "  <thead>\n",
       "    <tr style=\"text-align: left;\">\n",
       "      <th>epoch</th>\n",
       "      <th>train_loss</th>\n",
       "      <th>valid_loss</th>\n",
       "      <th>mnist_accuracy</th>\n",
       "      <th>time</th>\n",
       "    </tr>\n",
       "  </thead>\n",
       "  <tbody>\n",
       "    <tr>\n",
       "      <td>0</td>\n",
       "      <td>0.614611</td>\n",
       "      <td>0.500711</td>\n",
       "      <td>0.501579</td>\n",
       "      <td>00:00</td>\n",
       "    </tr>\n",
       "    <tr>\n",
       "      <td>1</td>\n",
       "      <td>0.608779</td>\n",
       "      <td>0.496691</td>\n",
       "      <td>0.503069</td>\n",
       "      <td>00:00</td>\n",
       "    </tr>\n",
       "    <tr>\n",
       "      <td>2</td>\n",
       "      <td>0.605291</td>\n",
       "      <td>0.494718</td>\n",
       "      <td>0.505096</td>\n",
       "      <td>00:00</td>\n",
       "    </tr>\n",
       "    <tr>\n",
       "      <td>3</td>\n",
       "      <td>0.601552</td>\n",
       "      <td>0.492517</td>\n",
       "      <td>0.505600</td>\n",
       "      <td>00:00</td>\n",
       "    </tr>\n",
       "    <tr>\n",
       "      <td>4</td>\n",
       "      <td>0.592019</td>\n",
       "      <td>0.472528</td>\n",
       "      <td>0.523958</td>\n",
       "      <td>00:00</td>\n",
       "    </tr>\n",
       "    <tr>\n",
       "      <td>5</td>\n",
       "      <td>0.480602</td>\n",
       "      <td>0.396425</td>\n",
       "      <td>0.604324</td>\n",
       "      <td>00:00</td>\n",
       "    </tr>\n",
       "    <tr>\n",
       "      <td>6</td>\n",
       "      <td>0.299308</td>\n",
       "      <td>0.380194</td>\n",
       "      <td>0.619556</td>\n",
       "      <td>00:00</td>\n",
       "    </tr>\n",
       "    <tr>\n",
       "      <td>7</td>\n",
       "      <td>0.209126</td>\n",
       "      <td>0.306929</td>\n",
       "      <td>0.694971</td>\n",
       "      <td>00:00</td>\n",
       "    </tr>\n",
       "    <tr>\n",
       "      <td>8</td>\n",
       "      <td>0.160228</td>\n",
       "      <td>0.252402</td>\n",
       "      <td>0.752789</td>\n",
       "      <td>00:00</td>\n",
       "    </tr>\n",
       "    <tr>\n",
       "      <td>9</td>\n",
       "      <td>0.133355</td>\n",
       "      <td>0.213553</td>\n",
       "      <td>0.795016</td>\n",
       "      <td>00:00</td>\n",
       "    </tr>\n",
       "    <tr>\n",
       "      <td>10</td>\n",
       "      <td>0.117222</td>\n",
       "      <td>0.189173</td>\n",
       "      <td>0.819153</td>\n",
       "      <td>00:00</td>\n",
       "    </tr>\n",
       "    <tr>\n",
       "      <td>11</td>\n",
       "      <td>0.105487</td>\n",
       "      <td>0.174348</td>\n",
       "      <td>0.831709</td>\n",
       "      <td>00:00</td>\n",
       "    </tr>\n",
       "    <tr>\n",
       "      <td>12</td>\n",
       "      <td>0.096400</td>\n",
       "      <td>0.164019</td>\n",
       "      <td>0.838743</td>\n",
       "      <td>00:00</td>\n",
       "    </tr>\n",
       "    <tr>\n",
       "      <td>13</td>\n",
       "      <td>0.089308</td>\n",
       "      <td>0.155593</td>\n",
       "      <td>0.849821</td>\n",
       "      <td>00:00</td>\n",
       "    </tr>\n",
       "    <tr>\n",
       "      <td>14</td>\n",
       "      <td>0.083534</td>\n",
       "      <td>0.148234</td>\n",
       "      <td>0.856351</td>\n",
       "      <td>00:00</td>\n",
       "    </tr>\n",
       "    <tr>\n",
       "      <td>15</td>\n",
       "      <td>0.078705</td>\n",
       "      <td>0.141863</td>\n",
       "      <td>0.863889</td>\n",
       "      <td>00:00</td>\n",
       "    </tr>\n",
       "    <tr>\n",
       "      <td>16</td>\n",
       "      <td>0.074758</td>\n",
       "      <td>0.136435</td>\n",
       "      <td>0.868918</td>\n",
       "      <td>00:00</td>\n",
       "    </tr>\n",
       "    <tr>\n",
       "      <td>17</td>\n",
       "      <td>0.071583</td>\n",
       "      <td>0.131823</td>\n",
       "      <td>0.873947</td>\n",
       "      <td>00:00</td>\n",
       "    </tr>\n",
       "    <tr>\n",
       "      <td>18</td>\n",
       "      <td>0.068906</td>\n",
       "      <td>0.127961</td>\n",
       "      <td>0.877475</td>\n",
       "      <td>00:00</td>\n",
       "    </tr>\n",
       "    <tr>\n",
       "      <td>19</td>\n",
       "      <td>0.066530</td>\n",
       "      <td>0.124711</td>\n",
       "      <td>0.878483</td>\n",
       "      <td>00:00</td>\n",
       "    </tr>\n",
       "    <tr>\n",
       "      <td>20</td>\n",
       "      <td>0.064378</td>\n",
       "      <td>0.121935</td>\n",
       "      <td>0.882493</td>\n",
       "      <td>00:00</td>\n",
       "    </tr>\n",
       "    <tr>\n",
       "      <td>21</td>\n",
       "      <td>0.062429</td>\n",
       "      <td>0.119541</td>\n",
       "      <td>0.885495</td>\n",
       "      <td>00:00</td>\n",
       "    </tr>\n",
       "    <tr>\n",
       "      <td>22</td>\n",
       "      <td>0.060675</td>\n",
       "      <td>0.117464</td>\n",
       "      <td>0.887007</td>\n",
       "      <td>00:00</td>\n",
       "    </tr>\n",
       "    <tr>\n",
       "      <td>23</td>\n",
       "      <td>0.059106</td>\n",
       "      <td>0.115642</td>\n",
       "      <td>0.888004</td>\n",
       "      <td>00:00</td>\n",
       "    </tr>\n",
       "    <tr>\n",
       "      <td>24</td>\n",
       "      <td>0.057701</td>\n",
       "      <td>0.114027</td>\n",
       "      <td>0.890513</td>\n",
       "      <td>00:00</td>\n",
       "    </tr>\n",
       "    <tr>\n",
       "      <td>25</td>\n",
       "      <td>0.056437</td>\n",
       "      <td>0.112579</td>\n",
       "      <td>0.890502</td>\n",
       "      <td>00:00</td>\n",
       "    </tr>\n",
       "    <tr>\n",
       "      <td>26</td>\n",
       "      <td>0.055293</td>\n",
       "      <td>0.111273</td>\n",
       "      <td>0.891991</td>\n",
       "      <td>00:00</td>\n",
       "    </tr>\n",
       "    <tr>\n",
       "      <td>27</td>\n",
       "      <td>0.054249</td>\n",
       "      <td>0.110085</td>\n",
       "      <td>0.894008</td>\n",
       "      <td>00:00</td>\n",
       "    </tr>\n",
       "    <tr>\n",
       "      <td>28</td>\n",
       "      <td>0.053290</td>\n",
       "      <td>0.109001</td>\n",
       "      <td>0.894512</td>\n",
       "      <td>00:00</td>\n",
       "    </tr>\n",
       "    <tr>\n",
       "      <td>29</td>\n",
       "      <td>0.052404</td>\n",
       "      <td>0.108007</td>\n",
       "      <td>0.894512</td>\n",
       "      <td>00:00</td>\n",
       "    </tr>\n",
       "  </tbody>\n",
       "</table>"
      ],
      "text/plain": [
       "<IPython.core.display.HTML object>"
      ]
     },
     "metadata": {},
     "output_type": "display_data"
    }
   ],
   "source": [
    "learn.fit(30, lr=.5)"
   ]
  },
  {
   "cell_type": "markdown",
   "metadata": {},
   "source": [
    "As you can see, here we cannot use our defined MyOptim classes because they lack some of the methods and properties needed.\n",
    "\n",
    "That's why we use stuff comes with fast.ai\n",
    "\n",
    "```\n",
    "MyOptim ~= SGD\n",
    "```"
   ]
  },
  {
   "cell_type": "markdown",
   "metadata": {},
   "source": [
    "## Use Our NN Model with a Learner"
   ]
  },
  {
   "cell_type": "code",
   "execution_count": 170,
   "metadata": {},
   "outputs": [],
   "source": [
    "learn = Learner(dls, MyNNModel(28*28), opt_func=SGD, loss_func=mnist_loss, metrics=mnist_accuracy)"
   ]
  },
  {
   "cell_type": "code",
   "execution_count": 171,
   "metadata": {},
   "outputs": [
    {
     "data": {
      "text/html": [
       "<table border=\"1\" class=\"dataframe\">\n",
       "  <thead>\n",
       "    <tr style=\"text-align: left;\">\n",
       "      <th>epoch</th>\n",
       "      <th>train_loss</th>\n",
       "      <th>valid_loss</th>\n",
       "      <th>mnist_accuracy</th>\n",
       "      <th>time</th>\n",
       "    </tr>\n",
       "  </thead>\n",
       "  <tbody>\n",
       "    <tr>\n",
       "      <td>0</td>\n",
       "      <td>0.374334</td>\n",
       "      <td>0.311380</td>\n",
       "      <td>0.688508</td>\n",
       "      <td>00:01</td>\n",
       "    </tr>\n",
       "    <tr>\n",
       "      <td>1</td>\n",
       "      <td>0.258273</td>\n",
       "      <td>0.326495</td>\n",
       "      <td>0.674395</td>\n",
       "      <td>00:00</td>\n",
       "    </tr>\n",
       "    <tr>\n",
       "      <td>2</td>\n",
       "      <td>0.205330</td>\n",
       "      <td>0.288688</td>\n",
       "      <td>0.711190</td>\n",
       "      <td>00:00</td>\n",
       "    </tr>\n",
       "    <tr>\n",
       "      <td>3</td>\n",
       "      <td>0.174478</td>\n",
       "      <td>0.249385</td>\n",
       "      <td>0.752016</td>\n",
       "      <td>00:00</td>\n",
       "    </tr>\n",
       "    <tr>\n",
       "      <td>4</td>\n",
       "      <td>0.159647</td>\n",
       "      <td>0.222399</td>\n",
       "      <td>0.777218</td>\n",
       "      <td>00:00</td>\n",
       "    </tr>\n",
       "    <tr>\n",
       "      <td>5</td>\n",
       "      <td>0.148789</td>\n",
       "      <td>0.202422</td>\n",
       "      <td>0.797883</td>\n",
       "      <td>00:00</td>\n",
       "    </tr>\n",
       "    <tr>\n",
       "      <td>6</td>\n",
       "      <td>0.142988</td>\n",
       "      <td>0.183755</td>\n",
       "      <td>0.812500</td>\n",
       "      <td>00:00</td>\n",
       "    </tr>\n",
       "    <tr>\n",
       "      <td>7</td>\n",
       "      <td>0.136208</td>\n",
       "      <td>0.170698</td>\n",
       "      <td>0.828125</td>\n",
       "      <td>00:00</td>\n",
       "    </tr>\n",
       "    <tr>\n",
       "      <td>8</td>\n",
       "      <td>0.129844</td>\n",
       "      <td>0.158964</td>\n",
       "      <td>0.841230</td>\n",
       "      <td>00:00</td>\n",
       "    </tr>\n",
       "    <tr>\n",
       "      <td>9</td>\n",
       "      <td>0.124212</td>\n",
       "      <td>0.149450</td>\n",
       "      <td>0.852319</td>\n",
       "      <td>00:00</td>\n",
       "    </tr>\n",
       "    <tr>\n",
       "      <td>10</td>\n",
       "      <td>0.119557</td>\n",
       "      <td>0.142372</td>\n",
       "      <td>0.858367</td>\n",
       "      <td>00:00</td>\n",
       "    </tr>\n",
       "    <tr>\n",
       "      <td>11</td>\n",
       "      <td>0.114972</td>\n",
       "      <td>0.139263</td>\n",
       "      <td>0.862399</td>\n",
       "      <td>00:00</td>\n",
       "    </tr>\n",
       "    <tr>\n",
       "      <td>12</td>\n",
       "      <td>0.111500</td>\n",
       "      <td>0.135248</td>\n",
       "      <td>0.865423</td>\n",
       "      <td>00:00</td>\n",
       "    </tr>\n",
       "    <tr>\n",
       "      <td>13</td>\n",
       "      <td>0.108819</td>\n",
       "      <td>0.126821</td>\n",
       "      <td>0.875504</td>\n",
       "      <td>00:00</td>\n",
       "    </tr>\n",
       "    <tr>\n",
       "      <td>14</td>\n",
       "      <td>0.106164</td>\n",
       "      <td>0.119672</td>\n",
       "      <td>0.882056</td>\n",
       "      <td>00:00</td>\n",
       "    </tr>\n",
       "    <tr>\n",
       "      <td>15</td>\n",
       "      <td>0.103927</td>\n",
       "      <td>0.114568</td>\n",
       "      <td>0.888105</td>\n",
       "      <td>00:00</td>\n",
       "    </tr>\n",
       "    <tr>\n",
       "      <td>16</td>\n",
       "      <td>0.101795</td>\n",
       "      <td>0.110980</td>\n",
       "      <td>0.890625</td>\n",
       "      <td>00:00</td>\n",
       "    </tr>\n",
       "    <tr>\n",
       "      <td>17</td>\n",
       "      <td>0.099319</td>\n",
       "      <td>0.108173</td>\n",
       "      <td>0.893649</td>\n",
       "      <td>00:00</td>\n",
       "    </tr>\n",
       "    <tr>\n",
       "      <td>18</td>\n",
       "      <td>0.096597</td>\n",
       "      <td>0.105896</td>\n",
       "      <td>0.895665</td>\n",
       "      <td>00:00</td>\n",
       "    </tr>\n",
       "    <tr>\n",
       "      <td>19</td>\n",
       "      <td>0.093774</td>\n",
       "      <td>0.104180</td>\n",
       "      <td>0.897177</td>\n",
       "      <td>00:00</td>\n",
       "    </tr>\n",
       "    <tr>\n",
       "      <td>20</td>\n",
       "      <td>0.091152</td>\n",
       "      <td>0.102691</td>\n",
       "      <td>0.897681</td>\n",
       "      <td>00:00</td>\n",
       "    </tr>\n",
       "    <tr>\n",
       "      <td>21</td>\n",
       "      <td>0.088988</td>\n",
       "      <td>0.101388</td>\n",
       "      <td>0.899194</td>\n",
       "      <td>00:00</td>\n",
       "    </tr>\n",
       "    <tr>\n",
       "      <td>22</td>\n",
       "      <td>0.087157</td>\n",
       "      <td>0.100350</td>\n",
       "      <td>0.900202</td>\n",
       "      <td>00:00</td>\n",
       "    </tr>\n",
       "    <tr>\n",
       "      <td>23</td>\n",
       "      <td>0.085435</td>\n",
       "      <td>0.099436</td>\n",
       "      <td>0.900706</td>\n",
       "      <td>00:00</td>\n",
       "    </tr>\n",
       "    <tr>\n",
       "      <td>24</td>\n",
       "      <td>0.083950</td>\n",
       "      <td>0.098438</td>\n",
       "      <td>0.901210</td>\n",
       "      <td>00:00</td>\n",
       "    </tr>\n",
       "    <tr>\n",
       "      <td>25</td>\n",
       "      <td>0.082828</td>\n",
       "      <td>0.097328</td>\n",
       "      <td>0.902218</td>\n",
       "      <td>00:00</td>\n",
       "    </tr>\n",
       "    <tr>\n",
       "      <td>26</td>\n",
       "      <td>0.081827</td>\n",
       "      <td>0.096244</td>\n",
       "      <td>0.902722</td>\n",
       "      <td>00:00</td>\n",
       "    </tr>\n",
       "    <tr>\n",
       "      <td>27</td>\n",
       "      <td>0.080991</td>\n",
       "      <td>0.095201</td>\n",
       "      <td>0.904234</td>\n",
       "      <td>00:00</td>\n",
       "    </tr>\n",
       "    <tr>\n",
       "      <td>28</td>\n",
       "      <td>0.080296</td>\n",
       "      <td>0.094165</td>\n",
       "      <td>0.906250</td>\n",
       "      <td>00:00</td>\n",
       "    </tr>\n",
       "    <tr>\n",
       "      <td>29</td>\n",
       "      <td>0.079630</td>\n",
       "      <td>0.093045</td>\n",
       "      <td>0.906250</td>\n",
       "      <td>00:00</td>\n",
       "    </tr>\n",
       "    <tr>\n",
       "      <td>30</td>\n",
       "      <td>0.079007</td>\n",
       "      <td>0.091718</td>\n",
       "      <td>0.908770</td>\n",
       "      <td>00:00</td>\n",
       "    </tr>\n",
       "    <tr>\n",
       "      <td>31</td>\n",
       "      <td>0.078469</td>\n",
       "      <td>0.090128</td>\n",
       "      <td>0.909778</td>\n",
       "      <td>00:00</td>\n",
       "    </tr>\n",
       "    <tr>\n",
       "      <td>32</td>\n",
       "      <td>0.078009</td>\n",
       "      <td>0.088414</td>\n",
       "      <td>0.912298</td>\n",
       "      <td>00:00</td>\n",
       "    </tr>\n",
       "    <tr>\n",
       "      <td>33</td>\n",
       "      <td>0.077590</td>\n",
       "      <td>0.086831</td>\n",
       "      <td>0.914819</td>\n",
       "      <td>00:00</td>\n",
       "    </tr>\n",
       "    <tr>\n",
       "      <td>34</td>\n",
       "      <td>0.077161</td>\n",
       "      <td>0.085495</td>\n",
       "      <td>0.916331</td>\n",
       "      <td>00:00</td>\n",
       "    </tr>\n",
       "    <tr>\n",
       "      <td>35</td>\n",
       "      <td>0.076678</td>\n",
       "      <td>0.084333</td>\n",
       "      <td>0.916835</td>\n",
       "      <td>00:00</td>\n",
       "    </tr>\n",
       "    <tr>\n",
       "      <td>36</td>\n",
       "      <td>0.076117</td>\n",
       "      <td>0.083273</td>\n",
       "      <td>0.917339</td>\n",
       "      <td>00:00</td>\n",
       "    </tr>\n",
       "    <tr>\n",
       "      <td>37</td>\n",
       "      <td>0.075468</td>\n",
       "      <td>0.082251</td>\n",
       "      <td>0.918347</td>\n",
       "      <td>00:00</td>\n",
       "    </tr>\n",
       "    <tr>\n",
       "      <td>38</td>\n",
       "      <td>0.074744</td>\n",
       "      <td>0.081185</td>\n",
       "      <td>0.918851</td>\n",
       "      <td>00:00</td>\n",
       "    </tr>\n",
       "    <tr>\n",
       "      <td>39</td>\n",
       "      <td>0.074019</td>\n",
       "      <td>0.079997</td>\n",
       "      <td>0.919859</td>\n",
       "      <td>00:00</td>\n",
       "    </tr>\n",
       "  </tbody>\n",
       "</table>"
      ],
      "text/plain": [
       "<IPython.core.display.HTML object>"
      ]
     },
     "metadata": {},
     "output_type": "display_data"
    }
   ],
   "source": [
    "learn.fit(40, .1)"
   ]
  },
  {
   "cell_type": "markdown",
   "metadata": {},
   "source": [
    "## Using fine_tune()"
   ]
  },
  {
   "cell_type": "code",
   "execution_count": 192,
   "metadata": {},
   "outputs": [
    {
     "data": {
      "text/html": [
       "<table border=\"1\" class=\"dataframe\">\n",
       "  <thead>\n",
       "    <tr style=\"text-align: left;\">\n",
       "      <th>epoch</th>\n",
       "      <th>train_loss</th>\n",
       "      <th>valid_loss</th>\n",
       "      <th>mnist_accuracy</th>\n",
       "      <th>time</th>\n",
       "    </tr>\n",
       "  </thead>\n",
       "  <tbody>\n",
       "    <tr>\n",
       "      <td>0</td>\n",
       "      <td>0.340201</td>\n",
       "      <td>0.459085</td>\n",
       "      <td>0.541331</td>\n",
       "      <td>00:00</td>\n",
       "    </tr>\n",
       "  </tbody>\n",
       "</table>"
      ],
      "text/plain": [
       "<IPython.core.display.HTML object>"
      ]
     },
     "metadata": {},
     "output_type": "display_data"
    },
    {
     "data": {
      "text/html": [
       "<table border=\"1\" class=\"dataframe\">\n",
       "  <thead>\n",
       "    <tr style=\"text-align: left;\">\n",
       "      <th>epoch</th>\n",
       "      <th>train_loss</th>\n",
       "      <th>valid_loss</th>\n",
       "      <th>mnist_accuracy</th>\n",
       "      <th>time</th>\n",
       "    </tr>\n",
       "  </thead>\n",
       "  <tbody>\n",
       "    <tr>\n",
       "      <td>0</td>\n",
       "      <td>0.361382</td>\n",
       "      <td>0.447177</td>\n",
       "      <td>0.553427</td>\n",
       "      <td>00:00</td>\n",
       "    </tr>\n",
       "    <tr>\n",
       "      <td>1</td>\n",
       "      <td>0.358143</td>\n",
       "      <td>0.433748</td>\n",
       "      <td>0.566028</td>\n",
       "      <td>00:00</td>\n",
       "    </tr>\n",
       "    <tr>\n",
       "      <td>2</td>\n",
       "      <td>0.352717</td>\n",
       "      <td>0.410010</td>\n",
       "      <td>0.590726</td>\n",
       "      <td>00:00</td>\n",
       "    </tr>\n",
       "    <tr>\n",
       "      <td>3</td>\n",
       "      <td>0.341809</td>\n",
       "      <td>0.384795</td>\n",
       "      <td>0.613407</td>\n",
       "      <td>00:00</td>\n",
       "    </tr>\n",
       "    <tr>\n",
       "      <td>4</td>\n",
       "      <td>0.329841</td>\n",
       "      <td>0.356902</td>\n",
       "      <td>0.643649</td>\n",
       "      <td>00:00</td>\n",
       "    </tr>\n",
       "    <tr>\n",
       "      <td>5</td>\n",
       "      <td>0.310659</td>\n",
       "      <td>0.334545</td>\n",
       "      <td>0.665323</td>\n",
       "      <td>00:00</td>\n",
       "    </tr>\n",
       "    <tr>\n",
       "      <td>6</td>\n",
       "      <td>0.295817</td>\n",
       "      <td>0.307748</td>\n",
       "      <td>0.691532</td>\n",
       "      <td>00:00</td>\n",
       "    </tr>\n",
       "    <tr>\n",
       "      <td>7</td>\n",
       "      <td>0.276122</td>\n",
       "      <td>0.289576</td>\n",
       "      <td>0.712198</td>\n",
       "      <td>00:00</td>\n",
       "    </tr>\n",
       "    <tr>\n",
       "      <td>8</td>\n",
       "      <td>0.261147</td>\n",
       "      <td>0.269563</td>\n",
       "      <td>0.732359</td>\n",
       "      <td>00:00</td>\n",
       "    </tr>\n",
       "    <tr>\n",
       "      <td>9</td>\n",
       "      <td>0.247483</td>\n",
       "      <td>0.254255</td>\n",
       "      <td>0.747480</td>\n",
       "      <td>00:00</td>\n",
       "    </tr>\n",
       "    <tr>\n",
       "      <td>10</td>\n",
       "      <td>0.237003</td>\n",
       "      <td>0.241433</td>\n",
       "      <td>0.762601</td>\n",
       "      <td>00:00</td>\n",
       "    </tr>\n",
       "    <tr>\n",
       "      <td>11</td>\n",
       "      <td>0.226616</td>\n",
       "      <td>0.230543</td>\n",
       "      <td>0.770665</td>\n",
       "      <td>00:01</td>\n",
       "    </tr>\n",
       "    <tr>\n",
       "      <td>12</td>\n",
       "      <td>0.215289</td>\n",
       "      <td>0.222128</td>\n",
       "      <td>0.780242</td>\n",
       "      <td>00:00</td>\n",
       "    </tr>\n",
       "    <tr>\n",
       "      <td>13</td>\n",
       "      <td>0.205887</td>\n",
       "      <td>0.214405</td>\n",
       "      <td>0.784778</td>\n",
       "      <td>00:00</td>\n",
       "    </tr>\n",
       "    <tr>\n",
       "      <td>14</td>\n",
       "      <td>0.198571</td>\n",
       "      <td>0.206990</td>\n",
       "      <td>0.792843</td>\n",
       "      <td>00:00</td>\n",
       "    </tr>\n",
       "    <tr>\n",
       "      <td>15</td>\n",
       "      <td>0.192525</td>\n",
       "      <td>0.199751</td>\n",
       "      <td>0.798891</td>\n",
       "      <td>00:00</td>\n",
       "    </tr>\n",
       "    <tr>\n",
       "      <td>16</td>\n",
       "      <td>0.187562</td>\n",
       "      <td>0.192677</td>\n",
       "      <td>0.807460</td>\n",
       "      <td>00:00</td>\n",
       "    </tr>\n",
       "    <tr>\n",
       "      <td>17</td>\n",
       "      <td>0.182960</td>\n",
       "      <td>0.186345</td>\n",
       "      <td>0.813508</td>\n",
       "      <td>00:00</td>\n",
       "    </tr>\n",
       "    <tr>\n",
       "      <td>18</td>\n",
       "      <td>0.178733</td>\n",
       "      <td>0.180821</td>\n",
       "      <td>0.818044</td>\n",
       "      <td>00:00</td>\n",
       "    </tr>\n",
       "    <tr>\n",
       "      <td>19</td>\n",
       "      <td>0.174928</td>\n",
       "      <td>0.175970</td>\n",
       "      <td>0.825605</td>\n",
       "      <td>00:00</td>\n",
       "    </tr>\n",
       "    <tr>\n",
       "      <td>20</td>\n",
       "      <td>0.171146</td>\n",
       "      <td>0.171756</td>\n",
       "      <td>0.831149</td>\n",
       "      <td>00:00</td>\n",
       "    </tr>\n",
       "    <tr>\n",
       "      <td>21</td>\n",
       "      <td>0.167724</td>\n",
       "      <td>0.168073</td>\n",
       "      <td>0.834173</td>\n",
       "      <td>00:01</td>\n",
       "    </tr>\n",
       "    <tr>\n",
       "      <td>22</td>\n",
       "      <td>0.164813</td>\n",
       "      <td>0.164941</td>\n",
       "      <td>0.836190</td>\n",
       "      <td>00:01</td>\n",
       "    </tr>\n",
       "    <tr>\n",
       "      <td>23</td>\n",
       "      <td>0.162374</td>\n",
       "      <td>0.162317</td>\n",
       "      <td>0.838206</td>\n",
       "      <td>00:01</td>\n",
       "    </tr>\n",
       "    <tr>\n",
       "      <td>24</td>\n",
       "      <td>0.160233</td>\n",
       "      <td>0.160019</td>\n",
       "      <td>0.841230</td>\n",
       "      <td>00:00</td>\n",
       "    </tr>\n",
       "    <tr>\n",
       "      <td>25</td>\n",
       "      <td>0.158355</td>\n",
       "      <td>0.157942</td>\n",
       "      <td>0.841734</td>\n",
       "      <td>00:00</td>\n",
       "    </tr>\n",
       "    <tr>\n",
       "      <td>26</td>\n",
       "      <td>0.156734</td>\n",
       "      <td>0.156096</td>\n",
       "      <td>0.844254</td>\n",
       "      <td>00:00</td>\n",
       "    </tr>\n",
       "    <tr>\n",
       "      <td>27</td>\n",
       "      <td>0.155359</td>\n",
       "      <td>0.154525</td>\n",
       "      <td>0.844758</td>\n",
       "      <td>00:00</td>\n",
       "    </tr>\n",
       "    <tr>\n",
       "      <td>28</td>\n",
       "      <td>0.154218</td>\n",
       "      <td>0.153251</td>\n",
       "      <td>0.846270</td>\n",
       "      <td>00:00</td>\n",
       "    </tr>\n",
       "    <tr>\n",
       "      <td>29</td>\n",
       "      <td>0.153269</td>\n",
       "      <td>0.152279</td>\n",
       "      <td>0.849798</td>\n",
       "      <td>00:00</td>\n",
       "    </tr>\n",
       "    <tr>\n",
       "      <td>30</td>\n",
       "      <td>0.152463</td>\n",
       "      <td>0.151573</td>\n",
       "      <td>0.849294</td>\n",
       "      <td>00:00</td>\n",
       "    </tr>\n",
       "    <tr>\n",
       "      <td>31</td>\n",
       "      <td>0.151767</td>\n",
       "      <td>0.151083</td>\n",
       "      <td>0.850806</td>\n",
       "      <td>00:00</td>\n",
       "    </tr>\n",
       "    <tr>\n",
       "      <td>32</td>\n",
       "      <td>0.151164</td>\n",
       "      <td>0.150763</td>\n",
       "      <td>0.851815</td>\n",
       "      <td>00:00</td>\n",
       "    </tr>\n",
       "    <tr>\n",
       "      <td>33</td>\n",
       "      <td>0.150656</td>\n",
       "      <td>0.150580</td>\n",
       "      <td>0.852319</td>\n",
       "      <td>00:00</td>\n",
       "    </tr>\n",
       "    <tr>\n",
       "      <td>34</td>\n",
       "      <td>0.150244</td>\n",
       "      <td>0.150505</td>\n",
       "      <td>0.852823</td>\n",
       "      <td>00:00</td>\n",
       "    </tr>\n",
       "    <tr>\n",
       "      <td>35</td>\n",
       "      <td>0.149927</td>\n",
       "      <td>0.150510</td>\n",
       "      <td>0.852823</td>\n",
       "      <td>00:01</td>\n",
       "    </tr>\n",
       "    <tr>\n",
       "      <td>36</td>\n",
       "      <td>0.149697</td>\n",
       "      <td>0.150566</td>\n",
       "      <td>0.852823</td>\n",
       "      <td>00:00</td>\n",
       "    </tr>\n",
       "    <tr>\n",
       "      <td>37</td>\n",
       "      <td>0.149540</td>\n",
       "      <td>0.150644</td>\n",
       "      <td>0.853327</td>\n",
       "      <td>00:00</td>\n",
       "    </tr>\n",
       "    <tr>\n",
       "      <td>38</td>\n",
       "      <td>0.149440</td>\n",
       "      <td>0.150712</td>\n",
       "      <td>0.852823</td>\n",
       "      <td>00:00</td>\n",
       "    </tr>\n",
       "    <tr>\n",
       "      <td>39</td>\n",
       "      <td>0.149374</td>\n",
       "      <td>0.150742</td>\n",
       "      <td>0.852823</td>\n",
       "      <td>00:00</td>\n",
       "    </tr>\n",
       "  </tbody>\n",
       "</table>"
      ],
      "text/plain": [
       "<IPython.core.display.HTML object>"
      ]
     },
     "metadata": {},
     "output_type": "display_data"
    }
   ],
   "source": [
    "learn = Learner(dls, MyNNModel(28*28), loss_func=mnist_loss, opt_func=SGD, metrics=mnist_accuracy)\n",
    "learn.fine_tune(40, base_lr=0.1)"
   ]
  },
  {
   "cell_type": "code",
   "execution_count": null,
   "metadata": {},
   "outputs": [],
   "source": []
  }
 ],
 "metadata": {
  "kernelspec": {
   "display_name": "Python 3",
   "language": "python",
   "name": "python3"
  },
  "language_info": {
   "codemirror_mode": {
    "name": "ipython",
    "version": 3
   },
   "file_extension": ".py",
   "mimetype": "text/x-python",
   "name": "python",
   "nbconvert_exporter": "python",
   "pygments_lexer": "ipython3",
   "version": "3.7.6"
  }
 },
 "nbformat": 4,
 "nbformat_minor": 4
}
