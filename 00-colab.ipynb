{
  "nbformat": 4,
  "nbformat_minor": 0,
  "metadata": {
    "kernelspec": {
      "display_name": "Python 3",
      "language": "python",
      "name": "python3"
    },
    "language_info": {
      "codemirror_mode": {
        "name": "ipython",
        "version": 3
      },
      "file_extension": ".py",
      "mimetype": "text/x-python",
      "name": "python",
      "nbconvert_exporter": "python",
      "pygments_lexer": "ipython3",
      "version": "3.7.6"
    },
    "colab": {
      "name": "00-colab.ipynb",
      "provenance": [],
      "include_colab_link": true
    }
  },
  "cells": [
    {
      "cell_type": "markdown",
      "metadata": {
        "id": "view-in-github",
        "colab_type": "text"
      },
      "source": [
        "<a href=\"https://colab.research.google.com/github/arunoda/fastai-v4/blob/master/00-colab.ipynb\" target=\"_parent\"><img src=\"https://colab.research.google.com/assets/colab-badge.svg\" alt=\"Open In Colab\"/></a>"
      ]
    },
    {
      "cell_type": "markdown",
      "metadata": {
        "id": "SNBjBpstNwt7",
        "colab_type": "text"
      },
      "source": [
        "# **Fast.ai Colab Jumpstart**"
      ]
    },
    {
      "cell_type": "markdown",
      "metadata": {
        "id": "T2yXvhKSOfTs",
        "colab_type": "text"
      },
      "source": [
        "## Setting Up on Colab\n",
        "\n",
        "You only need to run this on Colab."
      ]
    },
    {
      "cell_type": "code",
      "metadata": {
        "id": "55gGnjJuN1N4",
        "colab_type": "code",
        "outputId": "0710e7e6-e768-4b76-eac3-224500147736",
        "colab": {
          "base_uri": "https://localhost:8080/",
          "height": 51
        }
      },
      "source": [
        "!pip install fastai2 > /dev/null 2>&1\n",
        "!git clone https://github.com/arunoda/fastai-v4 > /dev/null 2>&1\n",
        "%cd fastai-v4"
      ],
      "execution_count": 1,
      "outputs": [
        {
          "output_type": "stream",
          "text": [
            "/content/fastai-v4\n",
            "/content/fastai-v4\n"
          ],
          "name": "stdout"
        }
      ]
    },
    {
      "cell_type": "code",
      "metadata": {
        "id": "mfd08N4aOA4L",
        "colab_type": "code",
        "colab": {}
      },
      "source": [
        "from fastai2.vision.all import *"
      ],
      "execution_count": 0,
      "outputs": []
    },
    {
      "cell_type": "code",
      "metadata": {
        "id": "3CWCok_zOSHR",
        "colab_type": "code",
        "colab": {}
      },
      "source": [
        ""
      ],
      "execution_count": 0,
      "outputs": []
    }
  ]
}